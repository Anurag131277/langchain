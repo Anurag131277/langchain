{
  "nbformat": 4,
  "nbformat_minor": 0,
  "metadata": {
    "colab": {
      "provenance": [],
      "authorship_tag": "ABX9TyNmuiXW+bFe24vyQ3M4FthL",
      "include_colab_link": true
    },
    "kernelspec": {
      "name": "python3",
      "display_name": "Python 3"
    },
    "language_info": {
      "name": "python"
    }
  },
  "cells": [
    {
      "cell_type": "markdown",
      "metadata": {
        "id": "view-in-github",
        "colab_type": "text"
      },
      "source": [
        "<a href=\"https://colab.research.google.com/github/Anurag131277/langchain/blob/main/langchain_report.ipynb\" target=\"_parent\"><img src=\"https://colab.research.google.com/assets/colab-badge.svg\" alt=\"Open In Colab\"/></a>"
      ]
    },
    {
      "cell_type": "code",
      "execution_count": null,
      "metadata": {
        "colab": {
          "base_uri": "https://localhost:8080/"
        },
        "id": "mwsj3-a6pN_A",
        "outputId": "7c5fd2a7-aeec-43a8-97e8-a909d60c1bcf"
      },
      "outputs": [
        {
          "output_type": "stream",
          "name": "stdout",
          "text": [
            "\u001b[2K     \u001b[90m━━━━━━━━━━━━━━━━━━━━━━━━━━━━━━━━━━━━━━━━\u001b[0m \u001b[32m91.0/91.0 kB\u001b[0m \u001b[31m2.7 MB/s\u001b[0m eta \u001b[36m0:00:00\u001b[0m\n",
            "\u001b[2K   \u001b[90m━━━━━━━━━━━━━━━━━━━━━━━━━━━━━━━━━━━━━━━━\u001b[0m \u001b[32m131.5/131.5 kB\u001b[0m \u001b[31m5.2 MB/s\u001b[0m eta \u001b[36m0:00:00\u001b[0m\n",
            "\u001b[2K   \u001b[90m━━━━━━━━━━━━━━━━━━━━━━━━━━━━━━━━━━━━━━━━\u001b[0m \u001b[32m2.5/2.5 MB\u001b[0m \u001b[31m35.0 MB/s\u001b[0m eta \u001b[36m0:00:00\u001b[0m\n",
            "\u001b[2K   \u001b[90m━━━━━━━━━━━━━━━━━━━━━━━━━━━━━━━━━━━━━━━━\u001b[0m \u001b[32m415.4/415.4 kB\u001b[0m \u001b[31m23.5 MB/s\u001b[0m eta \u001b[36m0:00:00\u001b[0m\n",
            "\u001b[2K   \u001b[90m━━━━━━━━━━━━━━━━━━━━━━━━━━━━━━━━━━━━━━━━\u001b[0m \u001b[32m43.8/43.8 kB\u001b[0m \u001b[31m2.1 MB/s\u001b[0m eta \u001b[36m0:00:00\u001b[0m\n",
            "\u001b[2K   \u001b[90m━━━━━━━━━━━━━━━━━━━━━━━━━━━━━━━━━━━━━━━━\u001b[0m \u001b[32m41.3/41.3 kB\u001b[0m \u001b[31m1.9 MB/s\u001b[0m eta \u001b[36m0:00:00\u001b[0m\n",
            "\u001b[2K   \u001b[90m━━━━━━━━━━━━━━━━━━━━━━━━━━━━━━━━━━━━━━━━\u001b[0m \u001b[32m45.8/45.8 kB\u001b[0m \u001b[31m2.3 MB/s\u001b[0m eta \u001b[36m0:00:00\u001b[0m\n",
            "\u001b[2K   \u001b[90m━━━━━━━━━━━━━━━━━━━━━━━━━━━━━━━━━━━━━━━━\u001b[0m \u001b[32m1.2/1.2 MB\u001b[0m \u001b[31m43.0 MB/s\u001b[0m eta \u001b[36m0:00:00\u001b[0m\n",
            "\u001b[2K   \u001b[90m━━━━━━━━━━━━━━━━━━━━━━━━━━━━━━━━━━━━━━━━\u001b[0m \u001b[32m50.9/50.9 kB\u001b[0m \u001b[31m2.5 MB/s\u001b[0m eta \u001b[36m0:00:00\u001b[0m\n",
            "\u001b[?25h"
          ]
        }
      ],
      "source": [
        "%pip install --quiet -U langgraph langchain_community langchain_core tavily-python langchain_nvidia_ai_endpoints"
      ]
    },
    {
      "cell_type": "code",
      "source": [
        "from google.colab import userdata\n",
        "import os"
      ],
      "metadata": {
        "id": "54SjNkzdpwd0"
      },
      "execution_count": null,
      "outputs": []
    },
    {
      "cell_type": "code",
      "source": [
        "nvapi_key = userdata.get('NVIDIA_API_KEY')\n",
        "assert nvapi_key.startswith(\"nvapi-\"), f\"{nvapi_key[:5]}... is not a valid key\"\n",
        "os.environ[\"NVIDIA_API_KEY\"] = nvapi_key"
      ],
      "metadata": {
        "id": "JKlKs7sBqOGG"
      },
      "execution_count": null,
      "outputs": []
    },
    {
      "cell_type": "code",
      "source": [
        "os.environ[\"LANGCHAIN_API_KEY\"]= userdata.get('LANGCHAIN_API_KEY')\n",
        "os.environ[\"LANGCHAIN_TRACING_V2\"] = \"true\"\n",
        "os.environ[\"LANGCHAIN_PROJECT\"] = \"default\"\n",
        "os.environ[\"TAVILY_API_KEY\"] = userdata.get('TAVILY_API_KEY')"
      ],
      "metadata": {
        "id": "molMaGn1siO6"
      },
      "execution_count": null,
      "outputs": []
    },
    {
      "cell_type": "code",
      "source": [
        "from tavily import TavilyClient, AsyncTavilyClient\n",
        "tavily_client = TavilyClient()\n",
        "tavily_async_client = AsyncTavilyClient()"
      ],
      "metadata": {
        "id": "XGZusc7SC44e"
      },
      "execution_count": null,
      "outputs": []
    },
    {
      "cell_type": "code",
      "source": [
        "\n",
        "## Core LC Chat Interface\n",
        "from langchain_nvidia_ai_endpoints import ChatNVIDIA"
      ],
      "metadata": {
        "id": "gDlYGR0CtB_t"
      },
      "execution_count": null,
      "outputs": []
    },
    {
      "cell_type": "code",
      "source": [
        "llm = ChatNVIDIA(model=\"meta/llama-3.3-70b-instruct\", temperature=0)\n",
        "result = llm.invoke(\"Write a ballad about LangChain.\")\n",
        "print(result.content)"
      ],
      "metadata": {
        "colab": {
          "base_uri": "https://localhost:8080/"
        },
        "id": "mNFCgk3atJWx",
        "outputId": "4bb73528-644f-4858-c4ac-e56b5181cd65"
      },
      "execution_count": null,
      "outputs": [
        {
          "output_type": "stream",
          "name": "stdout",
          "text": [
            "(Verse 1)\n",
            "In realms of code, where innovators roam\n",
            "A new dawn broke, with LangChain's noble tone\n",
            "A framework born, to harness language's might\n",
            "To build and create, through day and endless night\n",
            "\n",
            "(Chorus)\n",
            "Oh LangChain, oh LangChain, a beacon in the land\n",
            "Guiding developers, hand in hand\n",
            "With LLMs and APIs, a harmonious blend\n",
            "Building applications, that never end\n",
            "\n",
            "(Verse 2)\n",
            "From text to image, to conversation's flow\n",
            "LangChain weaves, a tapestry to know\n",
            "The power of AI, at the developer's command\n",
            "A symphony of code, at their fingertips to stand\n",
            "\n",
            "(Chorus)\n",
            "Oh LangChain, oh LangChain, a beacon in the land\n",
            "Guiding developers, hand in hand\n",
            "With LLMs and APIs, a harmonious blend\n",
            "Building applications, that never end\n",
            "\n",
            "(Verse 3)\n",
            "Through agents and tools, the framework shines so bright\n",
            "Aiding humans, in their creative plight\n",
            "From simple tasks, to complex designs\n",
            "LangChain empowers, the innovative minds\n",
            "\n",
            "(Chorus)\n",
            "Oh LangChain, oh LangChain, a beacon in the land\n",
            "Guiding developers, hand in hand\n",
            "With LLMs and APIs, a harmonious blend\n",
            "Building applications, that never end\n",
            "\n",
            "(Bridge)\n",
            "As the community grows, and knowledge is shared\n",
            "LangChain's potential, is beyond compare\n",
            "A new era unfolds, of collaboration and might\n",
            "Where humans and AI, unite in the light\n",
            "\n",
            "(Verse 4)\n",
            "The future beckons, with possibilities grand\n",
            "LangChain leading, the way to a promised land\n",
            "Where language and code, entwine like a vine\n",
            "And innovation blooms, in a world divine\n",
            "\n",
            "(Chorus)\n",
            "Oh LangChain, oh LangChain, a beacon in the land\n",
            "Guiding developers, hand in hand\n",
            "With LLMs and APIs, a harmonious blend\n",
            "Building applications, that never end\n",
            "\n",
            "(Outro)\n",
            "So let the ballad, of LangChain be told\n",
            "A testament to, the power of code to mold\n",
            "A brighter tomorrow, where humans and AI entwine\n",
            "With LangChain's spirit, forever divine.\n"
          ]
        }
      ]
    },
    {
      "cell_type": "code",
      "source": [
        "import asyncio\n",
        "from langsmith import traceable\n",
        "from pydantic import BaseModel, Field\n",
        "\n",
        "from typing_extensions import TypedDict\n",
        "from typing import  Annotated, List, Optional, Literal\n",
        "\n",
        "class Section(BaseModel):\n",
        "    name: str = Field(\n",
        "        description=\"Name for this section of the report.\",\n",
        "    )\n",
        "    description: str = Field(\n",
        "        description=\"Brief overview of the main topics and concepts to be covered in this section.\",\n",
        "    )\n",
        "    research: bool = Field(\n",
        "        description=\"Whether to perform web research for this section of the report.\"\n",
        "    )\n",
        "    content: str = Field(\n",
        "        description=\"The content of the section.\"\n",
        "    )\n",
        "\n",
        "class Sections(BaseModel):\n",
        "    sections: List[Section] = Field(\n",
        "        description=\"Sections of the report.\",\n",
        "    )\n",
        "class SearchQuery(BaseModel):\n",
        "    search_query: str = Field(\n",
        "        None, description=\"Query for web search.\"\n",
        "    )\n",
        "class Queries(BaseModel):\n",
        "    queries: List[SearchQuery] = Field(\n",
        "        description=\"List of search queries.\",\n",
        "    )\n",
        "\n",
        "def deduplicate_and_format_sources(search_response, max_tokens_per_source, include_raw_content=True):\n",
        "    \"\"\"\n",
        "    Takes either a single search response or list of responses from Tavily API and formats them.\n",
        "    Limits the raw_content to approximately max_tokens_per_source.\n",
        "    include_raw_content specifies whether to include the raw_content from Tavily in the formatted string.\n",
        "\n",
        "    Args:\n",
        "        search_response: Either:\n",
        "            - A dict with a 'results' key containing a list of search results\n",
        "            - A list of dicts, each containing search results\n",
        "\n",
        "    Returns:\n",
        "        str: Formatted string with deduplicated sources\n",
        "    \"\"\"\n",
        "    # Convert input to list of results\n",
        "    if isinstance(search_response, dict):\n",
        "        sources_list = search_response['results']\n",
        "    elif isinstance(search_response, list):\n",
        "        sources_list = []\n",
        "        for response in search_response:\n",
        "            if isinstance(response, dict) and 'results' in response:\n",
        "                sources_list.extend(response['results'])\n",
        "            else:\n",
        "                sources_list.extend(response)\n",
        "    else:\n",
        "        raise ValueError(\"Input must be either a dict with 'results' or a list of search results\")\n",
        "\n",
        "    # Deduplicate by URL\n",
        "    unique_sources = {}\n",
        "    for source in sources_list:\n",
        "        if source['url'] not in unique_sources:\n",
        "            unique_sources[source['url']] = source\n",
        "\n",
        "    # Format output\n",
        "    formatted_text = \"Sources:\\n\\n\"\n",
        "    for i, source in enumerate(unique_sources.values(), 1):\n",
        "        formatted_text += f\"Source {source['title']}:\\n===\\n\"\n",
        "        formatted_text += f\"URL: {source['url']}\\n===\\n\"\n",
        "        formatted_text += f\"Most relevant content from source: {source['content']}\\n===\\n\"\n",
        "        if include_raw_content:\n",
        "            # Using rough estimate of 4 characters per token\n",
        "            char_limit = max_tokens_per_source * 4\n",
        "            # Handle None raw_content\n",
        "            raw_content = source.get('raw_content', '')\n",
        "            if raw_content is None:\n",
        "                raw_content = ''\n",
        "                print(f\"Warning: No raw_content found for source {source['url']}\")\n",
        "            if len(raw_content) > char_limit:\n",
        "                raw_content = raw_content[:char_limit] + \"... [truncated]\"\n",
        "            formatted_text += f\"Full source content limited to {max_tokens_per_source} tokens: {raw_content}\\n\\n\"\n",
        "\n",
        "    return formatted_text.strip()\n",
        "\n",
        "\n",
        "def format_sections(sections: list[Section]) -> str:\n",
        "    \"\"\" Format a list of sections into a string \"\"\"\n",
        "    formatted_str = \"\"\n",
        "    for idx, section in enumerate(sections, 1):\n",
        "        formatted_str += f\"\"\"\n",
        "{'='*60}\n",
        "Section {idx}: {section.name}\n",
        "{'='*60}\n",
        "Description:\n",
        "{section.description}\n",
        "Requires Research:\n",
        "{section.research}\n",
        "\n",
        "Content:\n",
        "{section.content if section.content else '[Not yet written]'}\n",
        "\n",
        "\"\"\"\n",
        "    return formatted_str\n",
        "\n",
        "\n",
        "@traceable\n",
        "def tavily_search(query):\n",
        "    \"\"\" Search the web using the Tavily API.\n",
        "\n",
        "    Args:\n",
        "        query (str): The search query to execute\n",
        "\n",
        "    Returns:\n",
        "        dict: Tavily search response containing:\n",
        "            - results (list): List of search result dictionaries, each containing:\n",
        "                - title (str): Title of the search result\n",
        "                - url (str): URL of the search result\n",
        "                - content (str): Snippet/summary of the content\n",
        "                - raw_content (str): Full content of the page if available\"\"\"\n",
        "\n",
        "    return tavily_client.search(query,\n",
        "                         max_results=5,\n",
        "                         include_raw_content=True)\n",
        "\n",
        "@traceable\n",
        "async def tavily_search_async(search_queries, tavily_topic, tavily_days):\n",
        "    \"\"\"\n",
        "    Performs concurrent web searches using the Tavily API.\n",
        "\n",
        "    Args:\n",
        "        search_queries (List[SearchQuery]): List of search queries to process\n",
        "        tavily_topic (str): Type of search to perform ('news' or 'general')\n",
        "        tavily_days (int): Number of days to look back for news articles (only used when tavily_topic='news')\n",
        "\n",
        "    Returns:\n",
        "        List[dict]: List of search results from Tavily API, one per query\n",
        "\n",
        "    Note:\n",
        "        For news searches, each result will include articles from the last `tavily_days` days.\n",
        "        For general searches, the time range is unrestricted.\n",
        "    \"\"\"\n",
        "\n",
        "    search_tasks = []\n",
        "    for query in search_queries:\n",
        "        if tavily_topic == \"news\":\n",
        "            search_tasks.append(\n",
        "                tavily_async_client.search(\n",
        "                    query,\n",
        "                    max_results=5,\n",
        "                    include_raw_content=True,\n",
        "                    topic=\"news\",\n",
        "                    days=tavily_days\n",
        "                )\n",
        "            )\n",
        "        else:\n",
        "            search_tasks.append(\n",
        "                tavily_async_client.search(\n",
        "                    query,\n",
        "                    max_results=5,\n",
        "                    include_raw_content=True,\n",
        "                    topic=\"general\"\n",
        "                )\n",
        "            )\n",
        "\n",
        "    # Execute all searches concurrently\n",
        "    search_docs = await asyncio.gather(*search_tasks)\n",
        "\n",
        "    return search_docs\n"
      ],
      "metadata": {
        "id": "orkW0BECtQdj"
      },
      "execution_count": null,
      "outputs": []
    },
    {
      "cell_type": "code",
      "source": [
        "import operator\n",
        "#langgraph state report\n",
        "class ReportState(TypedDict):\n",
        "    topic: str # Report topic\n",
        "    tavily_topic: Literal[\"general\", \"news\"] # Tavily search topic\n",
        "    tavily_days: Optional[int] # Only applicable for news topic\n",
        "    report_structure: str # Report structure\n",
        "    number_of_queries: int # Number web search queries to perform per section\n",
        "    sections: list[Section] # List of report sections\n",
        "    completed_sections: Annotated[list, operator.add] # Send() API key\n",
        "    report_sections_from_research: str # String of any completed sections from research to write final sections\n",
        "    final_report: str # Final report"
      ],
      "metadata": {
        "id": "LIBkDdIovijA"
      },
      "execution_count": null,
      "outputs": []
    },
    {
      "cell_type": "code",
      "source": [
        "from langchain_core.messages import HumanMessage, SystemMessage"
      ],
      "metadata": {
        "id": "EzQBpVxQ0tQg"
      },
      "execution_count": null,
      "outputs": []
    },
    {
      "cell_type": "code",
      "source": [
        "# Prompt to generate a search query to help with planning the report outline\n",
        "report_planner_query_writer_instructions=\"\"\"You are an expert technical writer, helping to plan a report.\n",
        "\n",
        "The report will be focused on the following topic:\n",
        "\n",
        "{topic}\n",
        "\n",
        "The report structure will follow these guidelines:\n",
        "\n",
        "{report_organization}\n",
        "\n",
        "Your goal is to generate {number_of_queries} search queries that will help gather comprehensive information for planning the report sections.\n",
        "\n",
        "The query should:\n",
        "\n",
        "1. Be related to the topic\n",
        "2. Help satisfy the requirements specified in the report organization\n",
        "\n",
        "Make the query specific enough to find high-quality, relevant sources while covering the breadth needed for the report structure.\"\"\"\n",
        "\n",
        "\n",
        "# Prompt generating the report outline\n",
        "report_planner_instructions=\"\"\"You are an expert technical writer, helping to plan a report.\n",
        "\n",
        "Your goal is to generate the outline of the sections of the report.\n",
        "\n",
        "The overall topic of the report is:\n",
        "\n",
        "{topic}\n",
        "\n",
        "The report should follow this organization:\n",
        "\n",
        "{report_organization}\n",
        "\n",
        "You should reflect on this information to plan the sections of the report:\n",
        "\n",
        "{context}\n",
        "\n",
        "Now, generate the sections of the report. Each section should have the following fields:\n",
        "\n",
        "- Name - Name for this section of the report.\n",
        "- Description - Brief overview of the main topics and concepts to be covered in this section.\n",
        "- Research - Whether to perform web research for this section of the report.\n",
        "- Content - The content of the section, which you will leave blank for now.\n",
        "\n",
        "Consider which sections require web research. For example, introduction and conclusion will not require research because they will distill information from other parts of the report.\"\"\"\n",
        "\n",
        "\n"
      ],
      "metadata": {
        "id": "WXH84VoT0wfO"
      },
      "execution_count": null,
      "outputs": []
    },
    {
      "cell_type": "code",
      "source": [
        "\n",
        "async def generate_report_plan(state: ReportState):\n",
        "\n",
        "    # Inputs\n",
        "    topic = state[\"topic\"]\n",
        "    report_structure = state[\"report_structure\"]\n",
        "    number_of_queries = state[\"number_of_queries\"]\n",
        "    tavily_topic = state[\"tavily_topic\"]\n",
        "    tavily_days = state.get(\"tavily_days\", None)\n",
        "\n",
        "    # Convert JSON object to string if necessary\n",
        "    if isinstance(report_structure, dict):\n",
        "        report_structure = str(report_structure)\n",
        "\n",
        "    # Generate search query\n",
        "    structured_llm = llm.with_structured_output(Queries)\n",
        "\n",
        "    # Format system instructions\n",
        "    system_instructions_query = report_planner_query_writer_instructions.format(topic=topic, report_organization=report_structure, number_of_queries=number_of_queries)\n",
        "\n",
        "    # Generate queries\n",
        "    results = structured_llm.invoke([SystemMessage(content=system_instructions_query)]+[HumanMessage(content=\"Generate search queries that will help with planning the sections of the report.\")])\n",
        "\n",
        "    # Web search\n",
        "    query_list = [query.search_query for query in results.queries]\n",
        "    search_docs = await tavily_search_async(query_list, tavily_topic, tavily_days)\n",
        "\n",
        "    # Deduplicate and format sources\n",
        "    source_str = deduplicate_and_format_sources(search_docs, max_tokens_per_source=1000, include_raw_content=True)\n",
        "\n",
        "    # Format system instructions\n",
        "    system_instructions_sections = report_planner_instructions.format(topic=topic, report_organization=report_structure, context=source_str)\n",
        "\n",
        "    # Generate sections\n",
        "    structured_llm = llm.with_structured_output(Sections)\n",
        "    report_sections = structured_llm.invoke([SystemMessage(content=system_instructions_sections)]+[HumanMessage(content=\"Generate the sections of the report. Your response must include a 'sections' field containing a list of sections. Each section must have: name, description, plan, research, and content fields.\")])\n",
        "\n",
        "    return {\"sections\": report_sections.sections}"
      ],
      "metadata": {
        "id": "OZwzrO0qDwl4"
      },
      "execution_count": null,
      "outputs": []
    },
    {
      "cell_type": "code",
      "source": [
        "# Structure\n",
        "report_structure = \"\"\"This report type focuses on comparative analysis.\n",
        "\n",
        "The report structure should include:\n",
        "1. Introduction (no research needed)\n",
        "   - Brief overview of the topic area\n",
        "   - Context for the comparison\n",
        "\n",
        "2. Main Body Sections:\n",
        "   - One dedicated section for EACH offering being compared in the user-provided list\n",
        "   - Each section should examine:\n",
        "     - Core Features (bulleted list)\n",
        "     - Architecture & Implementation (2-3 sentences)\n",
        "     - One example use case (2-3 sentences)\n",
        "\n",
        "3. No Main Body Sections other than the ones dedicated to each offering in the user-provided list\n",
        "\n",
        "4. Conclusion with Comparison Table (no research needed)\n",
        "   - Structured comparison table that:\n",
        "     * Compares all offerings from the user-provided list across key dimensions\n",
        "     * Highlights relative strengths and weaknesses\n",
        "   - Final recommendations\"\"\""
      ],
      "metadata": {
        "id": "nXD8DOWIDyQK"
      },
      "execution_count": null,
      "outputs": []
    },
    {
      "cell_type": "code",
      "source": [
        "# Topic\n",
        "# report_topic = \"Give an overview of capabilities and specific use case examples for these processing units: CPU, GPU.\"\n",
        "report_topic = \"Give an overview of The Importance of Recycling\""
      ],
      "metadata": {
        "id": "7g07DsEhD2Nj"
      },
      "execution_count": null,
      "outputs": []
    },
    {
      "cell_type": "code",
      "source": [
        "# Tavily search parameters\n",
        "tavily_topic = \"general\"\n",
        "tavily_days = None # Only applicable for news topic\n",
        "\n",
        "# Generate report plan\n",
        "sections = await generate_report_plan({\"topic\": report_topic, \"report_structure\": report_structure, \"number_of_queries\": 2, \"tavily_topic\": tavily_topic, \"tavily_days\": tavily_days})\n",
        "\n",
        "# Print sections\n",
        "for section in sections['sections']:\n",
        "    print(f\"{'='*50}\")\n",
        "    print(f\"Name: {section.name}\")\n",
        "    print(f\"Description: {section.description}\")\n",
        "    print(f\"Research: {section.research}\")"
      ],
      "metadata": {
        "colab": {
          "base_uri": "https://localhost:8080/"
        },
        "id": "yXGb3vY0D5w_",
        "outputId": "327301c6-928c-420b-b0bb-942855ccc956"
      },
      "execution_count": null,
      "outputs": [
        {
          "output_type": "stream",
          "name": "stdout",
          "text": [
            "==================================================\n",
            "Name: Introduction\n",
            "Description: Provide a brief overview of the topic area and context for the comparison between CPU and GPU processing units.\n",
            "Research: False\n",
            "==================================================\n",
            "Name: CPU\n",
            "Description: Examine the core features, architecture, and implementation of CPU processing units, and provide an example use case.\n",
            "Research: True\n",
            "==================================================\n",
            "Name: GPU\n",
            "Description: Examine the core features, architecture, and implementation of GPU processing units, and provide an example use case.\n",
            "Research: True\n",
            "==================================================\n",
            "Name: Conclusion with Comparison Table\n",
            "Description: Present a structured comparison table highlighting the relative strengths and weaknesses of CPU and GPU processing units, and provide final recommendations.\n",
            "Research: False\n"
          ]
        }
      ]
    },
    {
      "cell_type": "code",
      "source": [
        "class SectionState(TypedDict):\n",
        "    tavily_topic: Literal[\"general\", \"news\"] # Tavily search topic\n",
        "    tavily_days: Optional[int] # Only applicable for news topic\n",
        "    number_of_queries: int # Number web search queries to perform per section\n",
        "    section: Section # Report section\n",
        "    search_queries: list[SearchQuery] # List of search queries\n",
        "    source_str: str # String of formatted source content from web search\n",
        "    report_sections_from_research: str # String of any completed sections from research to write final sections\n",
        "    completed_sections: list[Section] # Final key we duplicate in outer state for Send() API\n",
        "\n",
        "class SectionOutputState(TypedDict):\n",
        "    completed_sections: list[Section] # Final key we duplicate in outer state for Send() API"
      ],
      "metadata": {
        "id": "WDw1d7qJD9fN"
      },
      "execution_count": null,
      "outputs": []
    },
    {
      "cell_type": "code",
      "source": [
        "from IPython.display import Image, display\n",
        "from langgraph.graph import START, END, StateGraph"
      ],
      "metadata": {
        "id": "tlzXukhhEQt0"
      },
      "execution_count": null,
      "outputs": []
    },
    {
      "cell_type": "code",
      "source": [
        "\n",
        "# Query writer instructions\n",
        "query_writer_instructions=\"\"\"Your goal is to generate targeted web search queries that will gather comprehensive information for writing a technical report section.\n",
        "\n",
        "Topic for this section:\n",
        "{section_topic}\n",
        "\n",
        "When generating {number_of_queries} search queries, ensure they:\n",
        "1. Cover different aspects of the topic (e.g., core features, real-world applications, technical architecture)\n",
        "2. Include specific technical terms related to the topic\n",
        "3. Target recent information by including year markers where relevant (e.g., \"2024\")\n",
        "4. Look for comparisons or differentiators from similar technologies/approaches\n",
        "5. Search for both official documentation and practical implementation examples\n",
        "\n",
        "Your queries should be:\n",
        "- Specific enough to avoid generic results\n",
        "- Technical enough to capture detailed implementation information\n",
        "- Diverse enough to cover all aspects of the section plan\n",
        "- Focused on authoritative sources (documentation, technical blogs, academic papers)\"\"\"\n",
        "\n",
        "# Section writer instructions\n",
        "section_writer_instructions = \"\"\"You are an expert technical writer crafting one section of a technical report.\n",
        "\n",
        "Topic for this section:\n",
        "{section_topic}\n",
        "\n",
        "Guidelines for writing:\n",
        "\n",
        "1. Technical Accuracy:\n",
        "- Include specific version numbers\n",
        "- Reference concrete metrics/benchmarks\n",
        "- Cite official documentation\n",
        "- Use technical terminology precisely\n",
        "\n",
        "2. Length and Style:\n",
        "- Strict 150-200 word limit\n",
        "- No marketing language\n",
        "- Technical focus\n",
        "- Write in simple, clear language\n",
        "- Start with your most important insight in **bold**\n",
        "- Use short paragraphs (2-3 sentences max)\n",
        "\n",
        "3. Structure:\n",
        "- Use ## for section title (Markdown format)\n",
        "- Only use ONE structural element IF it helps clarify your point:\n",
        "  * Either a focused table comparing 2-3 key items (using Markdown table syntax)\n",
        "  * Or a short list (3-5 items) using proper Markdown list syntax:\n",
        "    - Use `*` or `-` for unordered lists\n",
        "    - Use `1.` for ordered lists\n",
        "    - Ensure proper indentation and spacing\n",
        "- End with ### Sources that references the below source material formatted as:\n",
        "  * List each source with title, date, and URL\n",
        "  * Format: `- Title : URL`\n",
        "\n",
        "3. Writing Approach:\n",
        "- Include at least one specific example or case study\n",
        "- Use concrete details over general statements\n",
        "- Make every word count\n",
        "- No preamble prior to creating the section content\n",
        "- Focus on your single most important point\n",
        "\n",
        "4. Use this source material to help write the section:\n",
        "{context}\n",
        "\n",
        "5. Quality Checks:\n",
        "- Exactly 150-200 words (excluding title and sources)\n",
        "- Careful use of only ONE structural element (table or list) and only if it helps clarify your point\n",
        "- One specific example / case study\n",
        "- Starts with bold insight\n",
        "- No preamble prior to creating the section content\n",
        "- Sources cited at end\"\"\"\n",
        "\n",
        "def generate_queries(state: SectionState):\n",
        "    \"\"\" Generate search queries for a section \"\"\"\n",
        "\n",
        "    # Get state\n",
        "    number_of_queries = state[\"number_of_queries\"]\n",
        "    section = state[\"section\"]\n",
        "\n",
        "    # Generate queries\n",
        "    structured_llm = llm.with_structured_output(Queries)\n",
        "\n",
        "    # Format system instructions\n",
        "    system_instructions = query_writer_instructions.format(section_topic=section.description, number_of_queries=number_of_queries)\n",
        "\n",
        "    # Generate queries\n",
        "    queries = structured_llm.invoke([SystemMessage(content=system_instructions)]+[HumanMessage(content=\"Generate search queries on the provided topic.\")])\n",
        "\n",
        "    return {\"search_queries\": queries.queries}\n",
        "\n",
        "async def search_web(state: SectionState):\n",
        "    \"\"\" Search the web for each query, then return a list of raw sources and a formatted string of sources.\"\"\"\n",
        "\n",
        "    # Get state\n",
        "    search_queries = state[\"search_queries\"]\n",
        "    tavily_topic = state[\"tavily_topic\"]\n",
        "    tavily_days = state.get(\"tavily_days\", None)\n",
        "\n",
        "    # Web search\n",
        "    query_list = [query.search_query for query in search_queries]\n",
        "    search_docs = await tavily_search_async(query_list, tavily_topic, tavily_days)\n",
        "\n",
        "    # Deduplicate and format sources\n",
        "    source_str = deduplicate_and_format_sources(search_docs, max_tokens_per_source=5000, include_raw_content=True)\n",
        "\n",
        "    return {\"source_str\": source_str}\n",
        "\n",
        "def write_section(state: SectionState):\n",
        "    \"\"\" Write a section of the report \"\"\"\n",
        "\n",
        "    # Get state\n",
        "    section = state[\"section\"]\n",
        "    source_str = state[\"source_str\"]\n",
        "\n",
        "    # Format system instructions\n",
        "    system_instructions = section_writer_instructions.format(section_title=section.name, section_topic=section.description, context=source_str)\n",
        "\n",
        "    # Generate section\n",
        "    section_content = llm.invoke([SystemMessage(content=system_instructions)]+[HumanMessage(content=\"Generate a report section based on the provided sources.\")])\n",
        "\n",
        "    # Write content to the section object\n",
        "    section.content = section_content.content\n",
        "\n",
        "    # Write the updated section to completed sections\n",
        "    return {\"completed_sections\": [section]}\n",
        "\n",
        "# Add nodes and edges\n",
        "section_builder = StateGraph(SectionState, output=SectionOutputState)\n",
        "section_builder.add_node(\"generate_queries\", generate_queries)\n",
        "section_builder.add_node(\"search_web\", search_web)\n",
        "section_builder.add_node(\"write_section\", write_section)\n",
        "\n",
        "section_builder.add_edge(START, \"generate_queries\")\n",
        "section_builder.add_edge(\"generate_queries\", \"search_web\")\n",
        "section_builder.add_edge(\"search_web\", \"write_section\")\n",
        "section_builder.add_edge(\"write_section\", END)\n",
        "\n",
        "# Compile\n",
        "section_builder_graph = section_builder.compile()\n",
        "\n",
        "# View\n",
        "display(Image(section_builder_graph.get_graph(xray=1).draw_mermaid_png()))"
      ],
      "metadata": {
        "colab": {
          "base_uri": "https://localhost:8080/",
          "height": 449
        },
        "id": "qjAEUuKGEVB2",
        "outputId": "e8bc6456-6053-41cc-ed9a-98febd60db8f"
      },
      "execution_count": null,
      "outputs": [
        {
          "output_type": "display_data",
          "data": {
            "image/png": "[encoded data removed]",
            "text/plain": [
              "<IPython.core.display.Image object>"
            ]
          },
          "metadata": {}
        }
      ]
    },
    {
      "cell_type": "code",
      "source": [
        "# Test with one section\n",
        "sections = sections['sections']\n",
        "test_section = sections[1]\n",
        "print(f\"{'='*50}\")\n",
        "print(f\"Name: {test_section.name}\")\n",
        "print(f\"Description: {test_section.description}\")\n",
        "print(f\"Research: {test_section.research}\")\n",
        "\n",
        "# Run\n",
        "report_section = await section_builder_graph.ainvoke({\"section\": test_section, \"number_of_queries\": 2, \"tavily_topic\": tavily_topic, \"tavily_days\": tavily_days})"
      ],
      "metadata": {
        "colab": {
          "base_uri": "https://localhost:8080/"
        },
        "id": "tWWXSYtTEasv",
        "outputId": "974e787e-213c-4717-c14e-166e9d3d9009"
      },
      "execution_count": null,
      "outputs": [
        {
          "output_type": "stream",
          "name": "stdout",
          "text": [
            "==================================================\n",
            "Name: CPU\n",
            "Description: Examine the core features, architecture, and implementation of CPU processing units, and provide an example use case.\n",
            "Research: True\n",
            "Warning: No raw_content found for source https://www.intel.com/content/www/us/en/content-details/824430/2024-intel-tech-tour-next-gen-p-core-the-lion-cove-microarchitecture.html\n",
            "Warning: No raw_content found for source https://www.amd.com/content/dam/amd/en/documents/products/epyc/4th-gen-amd-epyc-processor-architecture-whitepaper.pdf\n"
          ]
        }
      ]
    },
    {
      "cell_type": "code",
      "source": [
        "print(report_section)"
      ],
      "metadata": {
        "colab": {
          "base_uri": "https://localhost:8080/"
        },
        "id": "ZDG1DdpzEgYd",
        "outputId": "d2e9363b-5d0f-4b3f-f703-5a22ae7fb8da"
      },
      "execution_count": null,
      "outputs": [
        {
          "output_type": "stream",
          "name": "stdout",
          "text": [
            "{'completed_sections': [Section(name='CPU', description='Examine the core features, architecture, and implementation of CPU processing units, and provide an example use case.', research=True, content=\"## Core Features and Architecture of CPU Processing Units\\n**The core architecture of CPU processing units has undergone significant transformations in recent years**, with a focus on improving performance, power efficiency, and scalability. The Armv9.2 architecture, for example, introduces enhanced security features such as memory tagging extensions (MTE) and confidential compute architecture (CCA). A specific example of this is the Arm Cortex X925 core, which promises substantial performance improvements, especially in single-threaded workloads. \\n- Key features of modern CPU architectures include:\\n  - Modular tile-based layouts\\n  - Hybrid structures combining performance and efficiency cores\\n  - Advanced packaging technologies like Foveros 3D packaging\\n  - Enhanced security features and AI optimizations\\nThe combination of these features enables CPU processing units to deliver unprecedented performance gains, improved power efficiency, and increased scalability, making them suitable for a wide range of applications, from mobile devices to datacenter servers.\\n### Sources\\n- Arm Unveils 2024 CPU Core Designs, Cortex X925, A725 and A520: Arm v9.2 Redefined For 3nm - AnandTech: https://www.anandtech.com/show/21399/arm-unveils-2024-cpu-core-designs-cortex-x925-a725-and-a520-arm-v9-2-redefined-for-3nm- \\n- A Look at 2024's New CPU Models: Powering the Next Generation of Computing - Medium: https://medium.com/@nabeelfaraz/a-look-at-2024s-new-cpu-models-powering-the-next-generation-of-computing-8d4d394e7531 \\n- 2024 Intel Tech Tour: Next Gen P-core-The Lion Cove Microarchitecture - Intel: https://www.intel.com/content/www/us/en/content-details/824430/2024-intel-tech-tour-next-gen-p-core-the-lion-cove-microarchitecture.html \\n- The evolution of CPUs: what's next? - TechFinitive: https://www.techfinitive.com/features/the-evolution-of-cpus-whats-next/ \\n- 4th Gen AMD EPYC Processor Architecture Whitepaper - AMD: https://www.amd.com/content/dam/amd/en/documents/products/epyc/4th-gen-amd-epyc-processor-architecture-whitepaper.pdf \\n- Analyzing AMD's Next-Generation CPU, GPU And DPU - Forbes: https://www.forbes.com/sites/moorinsights/2024/10/14/analyzing-amds-next-generation-cpu-gpu-and-dpu/ \\n- CPU vs. GPU: What's the Difference? - UMA Technology: https://umatechnology.org/cpu-vs-gpu-whats-the-difference/ \\n- GPU vs CPU: A pair of good brothers who support each other - Geekom: https://www.geekompc.com/gpu-vs-cpu/ \\n- CPU vs GPU: We tested 16 hardware combinations to show which upgrade will boost your gaming performance the most - Tom's Hardware: https://www.tomshardware.com/pc-components/gpus/cpu-vs-gpu-upgrade-benchmarks-testing \\n- AI Hardware Showdown: CPU vs GPU vs NPU - Harrison Clarke: https://www.harrisonclarke.com/blog/ai-hardware-showdown-cpu-vs-gpu-vs-npu/\")]}\n"
          ]
        }
      ]
    },
    {
      "cell_type": "code",
      "source": [
        "from IPython.display import Markdown\n",
        "section = report_section['completed_sections'][0]\n",
        "Markdown(section.content)"
      ],
      "metadata": {
        "colab": {
          "base_uri": "https://localhost:8080/",
          "height": 596
        },
        "id": "zObjm1pcEzHj",
        "outputId": "b9977716-2f50-4cb0-f1d0-b8476b80ec3f"
      },
      "execution_count": null,
      "outputs": [
        {
          "output_type": "execute_result",
          "data": {
            "text/plain": [
              "<IPython.core.display.Markdown object>"
            ],
            "text/markdown": "## Core Features and Architecture of CPU Processing Units\n**The core architecture of CPU processing units has undergone significant transformations in recent years**, with a focus on improving performance, power efficiency, and scalability. The Armv9.2 architecture, for example, introduces enhanced security features such as memory tagging extensions (MTE) and confidential compute architecture (CCA). A specific example of this is the Arm Cortex X925 core, which promises substantial performance improvements, especially in single-threaded workloads. \n- Key features of modern CPU architectures include:\n  - Modular tile-based layouts\n  - Hybrid structures combining performance and efficiency cores\n  - Advanced packaging technologies like Foveros 3D packaging\n  - Enhanced security features and AI optimizations\nThe combination of these features enables CPU processing units to deliver unprecedented performance gains, improved power efficiency, and increased scalability, making them suitable for a wide range of applications, from mobile devices to datacenter servers.\n### Sources\n- Arm Unveils 2024 CPU Core Designs, Cortex X925, A725 and A520: Arm v9.2 Redefined For 3nm - AnandTech: https://www.anandtech.com/show/21399/arm-unveils-2024-cpu-core-designs-cortex-x925-a725-and-a520-arm-v9-2-redefined-for-3nm- \n- A Look at 2024's New CPU Models: Powering the Next Generation of Computing - Medium: https://medium.com/@nabeelfaraz/a-look-at-2024s-new-cpu-models-powering-the-next-generation-of-computing-8d4d394e7531 \n- 2024 Intel Tech Tour: Next Gen P-core-The Lion Cove Microarchitecture - Intel: https://www.intel.com/content/www/us/en/content-details/824430/2024-intel-tech-tour-next-gen-p-core-the-lion-cove-microarchitecture.html \n- The evolution of CPUs: what's next? - TechFinitive: https://www.techfinitive.com/features/the-evolution-of-cpus-whats-next/ \n- 4th Gen AMD EPYC Processor Architecture Whitepaper - AMD: https://www.amd.com/content/dam/amd/en/documents/products/epyc/4th-gen-amd-epyc-processor-architecture-whitepaper.pdf \n- Analyzing AMD's Next-Generation CPU, GPU And DPU - Forbes: https://www.forbes.com/sites/moorinsights/2024/10/14/analyzing-amds-next-generation-cpu-gpu-and-dpu/ \n- CPU vs. GPU: What's the Difference? - UMA Technology: https://umatechnology.org/cpu-vs-gpu-whats-the-difference/ \n- GPU vs CPU: A pair of good brothers who support each other - Geekom: https://www.geekompc.com/gpu-vs-cpu/ \n- CPU vs GPU: We tested 16 hardware combinations to show which upgrade will boost your gaming performance the most - Tom's Hardware: https://www.tomshardware.com/pc-components/gpus/cpu-vs-gpu-upgrade-benchmarks-testing \n- AI Hardware Showdown: CPU vs GPU vs NPU - Harrison Clarke: https://www.harrisonclarke.com/blog/ai-hardware-showdown-cpu-vs-gpu-vs-npu/"
          },
          "metadata": {},
          "execution_count": 32
        }
      ]
    },
    {
      "cell_type": "code",
      "source": [
        "#write all sections\n",
        "class ReportStateOutput(TypedDict):\n",
        "    final_report: str # Final report"
      ],
      "metadata": {
        "id": "yBdW6p4CE3oy"
      },
      "execution_count": null,
      "outputs": []
    },
    {
      "cell_type": "code",
      "source": [
        "from langgraph.constants import Send\n",
        "\n",
        "final_section_writer_instructions=\"\"\"You are an expert technical writer crafting a section that synthesizes information from the rest of the report.\n",
        "\n",
        "Section to write:\n",
        "{section_topic}\n",
        "\n",
        "Available report content:\n",
        "{context}\n",
        "\n",
        "1. Section-Specific Approach:\n",
        "\n",
        "For Introduction:\n",
        "- Use # for report title (Markdown format)\n",
        "- 50-100 word limit\n",
        "- Write in simple and clear language\n",
        "- Focus on the core motivation for the report in 1-2 paragraphs\n",
        "- Use a clear narrative arc to introduce the report\n",
        "- Include NO structural elements (no lists or tables)\n",
        "- No sources section needed\n",
        "\n",
        "For Conclusion/Summary:\n",
        "- Use ## for section title (Markdown format)\n",
        "- 100-150 word limit\n",
        "- For comparative reports:\n",
        "    * Must include a focused comparison table using Markdown table syntax\n",
        "    * Table should distill insights from the report\n",
        "    * Keep table entries clear and concise\n",
        "- For non-comparative reports:\n",
        "    * Only use ONE structural element IF it helps distill the points made in the report:\n",
        "    * Either a focused table comparing items present in the report (using Markdown table syntax)\n",
        "    * Or a short list using proper Markdown list syntax:\n",
        "      - Use `*` or `-` for unordered lists\n",
        "      - Use `1.` for ordered lists\n",
        "      - Ensure proper indentation and spacing\n",
        "- End with specific next steps or implications\n",
        "- No sources section needed\n",
        "\n",
        "3. Writing Approach:\n",
        "- Use concrete details over general statements\n",
        "- Make every word count\n",
        "- Focus on your single most important point\n",
        "\n",
        "4. Quality Checks:\n",
        "- For introduction: 50-100 word limit, # for report title, no structural elements, no sources section\n",
        "- For conclusion: 100-150 word limit, ## for section title, only ONE structural element at most, no sources section\n",
        "- Markdown format\n",
        "- Do not include word count or any preamble in your response\"\"\"\n",
        "\n",
        "def initiate_section_writing(state: ReportState):\n",
        "    \"\"\" This is the \"map\" step when we kick off web research for some sections of the report \"\"\"\n",
        "\n",
        "    # Kick off section writing in parallel via Send() API for any sections that require research\n",
        "    return [\n",
        "        Send(\"build_section_with_web_research\", {\"section\": s,\n",
        "                                                 \"number_of_queries\": state[\"number_of_queries\"],\n",
        "                                                 \"tavily_topic\": state[\"tavily_topic\"],\n",
        "                                                 \"tavily_days\": state.get(\"tavily_days\", None)})\n",
        "        for s in state[\"sections\"]\n",
        "        if s.research\n",
        "    ]\n",
        "\n",
        "def write_final_sections(state: SectionState):\n",
        "    \"\"\" Write final sections of the report, which do not require web search and use the completed sections as context \"\"\"\n",
        "\n",
        "    # Get state\n",
        "    section = state[\"section\"]\n",
        "    completed_report_sections = state[\"report_sections_from_research\"]\n",
        "\n",
        "    # Format system instructions\n",
        "    system_instructions = final_section_writer_instructions.format(section_title=section.name, section_topic=section.description, context=completed_report_sections)\n",
        "\n",
        "    # Generate section\n",
        "    section_content = llm.invoke([SystemMessage(content=system_instructions)]+[HumanMessage(content=\"Generate a report section based on the provided sources.\")])\n",
        "\n",
        "    # Write content to section\n",
        "    section.content = section_content.content\n",
        "\n",
        "    # Write the updated section to completed sections\n",
        "    return {\"completed_sections\": [section]}\n",
        "\n",
        "def gather_completed_sections(state: ReportState):\n",
        "    \"\"\" Gather completed sections from research \"\"\"\n",
        "\n",
        "    # List of completed sections\n",
        "    completed_sections = state[\"completed_sections\"]\n",
        "\n",
        "    # Format completed section to str to use as context for final sections\n",
        "    completed_report_sections = format_sections(completed_sections)\n",
        "\n",
        "    return {\"report_sections_from_research\": completed_report_sections}\n",
        "\n",
        "def initiate_final_section_writing(state: ReportState):\n",
        "    \"\"\" This is the \"map\" step when we kick off research on any sections that require it using the Send API \"\"\"\n",
        "\n",
        "    # Kick off section writing in parallel via Send() API for any sections that do not require research\n",
        "    return [\n",
        "        Send(\"write_final_sections\", {\"section\": s, \"report_sections_from_research\": state[\"report_sections_from_research\"]})\n",
        "        for s in state[\"sections\"]\n",
        "        if not s.research\n",
        "    ]\n",
        "\n",
        "def compile_final_report(state: ReportState):\n",
        "    \"\"\" Compile the final report \"\"\"\n",
        "\n",
        "    # Get sections\n",
        "    sections = state[\"sections\"]\n",
        "    completed_sections = {s.name: s.content for s in state[\"completed_sections\"]}\n",
        "\n",
        "    # Update sections with completed content while maintaining original order\n",
        "    for section in sections:\n",
        "        section.content = completed_sections[section.name]\n",
        "\n",
        "    # Compile final report\n",
        "    all_sections = \"\\n\\n\".join([s.content for s in sections])\n",
        "\n",
        "    return {\"final_report\": all_sections}\n",
        "\n",
        "# Add nodes and edges\n",
        "builder = StateGraph(ReportState, output=ReportStateOutput)\n",
        "builder.add_node(\"generate_report_plan\", generate_report_plan)\n",
        "builder.add_node(\"build_section_with_web_research\", section_builder.compile())\n",
        "builder.add_node(\"gather_completed_sections\", gather_completed_sections)\n",
        "builder.add_node(\"write_final_sections\", write_final_sections)\n",
        "builder.add_node(\"compile_final_report\", compile_final_report)\n",
        "builder.add_edge(START, \"generate_report_plan\")\n",
        "builder.add_conditional_edges(\"generate_report_plan\", initiate_section_writing, [\"build_section_with_web_research\"])\n",
        "builder.add_edge(\"build_section_with_web_research\", \"gather_completed_sections\")\n",
        "builder.add_conditional_edges(\"gather_completed_sections\", initiate_final_section_writing, [\"write_final_sections\"])\n",
        "builder.add_edge(\"write_final_sections\", \"compile_final_report\")\n",
        "builder.add_edge(\"compile_final_report\", END)\n",
        "\n",
        "graph = builder.compile()\n",
        "display(Image(graph.get_graph(xray=1).draw_mermaid_png()))"
      ],
      "metadata": {
        "colab": {
          "base_uri": "https://localhost:8080/",
          "height": 896
        },
        "id": "ObEQv8wIFGdS",
        "outputId": "032f7d78-4592-4338-a726-957fe7f6b2fe"
      },
      "execution_count": null,
      "outputs": [
        {
          "output_type": "display_data",
          "data": {
            "image/png": "[encoded data removed]",
            "text/plain": [
              "<IPython.core.display.Image object>"
            ]
          },
          "metadata": {}
        }
      ]
    },
    {
      "cell_type": "code",
      "source": [
        "# Structure\n",
        "report_structure = \"\"\"This report type focuses on comparative analysis.\n",
        "\n",
        "The report structure should include:\n",
        "1. Introduction (no research needed)\n",
        "   - Brief overview of the topic area\n",
        "   - Context for the comparison\n",
        "\n",
        "2. Main Body Sections:\n",
        "   - One dedicated section for EACH offering being compared in the user-provided list\n",
        "   - Each section should examine:\n",
        "     - Core Features (bulleted list)\n",
        "     - Architecture & Implementation (2-3 sentences)\n",
        "     - One example use case (2-3 sentences)\n",
        "\n",
        "3. No Main Body Sections other than the ones dedicated to each offering in the user-provided list\n",
        "\n",
        "4. Conclusion with Comparison Table (no research needed)\n",
        "   - Structured comparison table that:\n",
        "     * Compares all offerings from the user-provided list across key dimensions\n",
        "     * Highlights relative strengths and weaknesses\n",
        "   - Final recommendations\"\"\"\n",
        "\n",
        "# Tavily search parameters\n",
        "tavily_topic = \"general\"\n",
        "tavily_days = None # Only applicable for news topic"
      ],
      "metadata": {
        "id": "ATxnYKaPGKkH"
      },
      "execution_count": null,
      "outputs": []
    },
    {
      "cell_type": "code",
      "source": [
        "# Topic\n",
        "report_topic = \"Give an overview of capabilities and specific use case examples for these processing units: CPU, GPU.\""
      ],
      "metadata": {
        "id": "ICYJzlS2GLOH"
      },
      "execution_count": null,
      "outputs": []
    },
    {
      "cell_type": "code",
      "source": [
        "report = await graph.ainvoke({\"topic\": report_topic,\n",
        "                                   \"report_structure\": report_structure,\n",
        "                                   \"number_of_queries\": 2,\n",
        "                                   \"tavily_topic\": tavily_topic,\n",
        "                                   \"tavily_days\": tavily_days})"
      ],
      "metadata": {
        "colab": {
          "base_uri": "https://localhost:8080/"
        },
        "id": "wYkMwxriGXdO",
        "outputId": "7c544570-24dd-442b-aecc-7ed99e4bbd1e"
      },
      "execution_count": null,
      "outputs": [
        {
          "output_type": "stream",
          "name": "stdout",
          "text": [
            "Warning: No raw_content found for source https://www.intel.com/content/www/us/en/products/docs/processors/cpu-vs-gpu.html\n",
            "Warning: No raw_content found for source https://ioaglobal.org/blog/how-gpu-innovation-is-powering-the-future-of-ai/\n",
            "Warning: No raw_content found for source https://newsroom.intel.com/artificial-intelligence/computex-2024-ai-everywhere-power-performance-affordability\n",
            "Warning: No raw_content found for source https://ieeexplore.ieee.org/document/9205654\n",
            "Warning: No raw_content found for source https://www.sciencedirect.com/science/article/pii/S1569190X24001461\n"
          ]
        }
      ]
    },
    {
      "cell_type": "code",
      "source": [
        "from IPython.display import Markdown\n",
        "Markdown(report['final_report'])"
      ],
      "metadata": {
        "colab": {
          "base_uri": "https://localhost:8080/",
          "height": 978
        },
        "id": "YT3uf7GzGZIa",
        "outputId": "553f8dc6-ba12-4ee2-e1f3-02c21537b58e"
      },
      "execution_count": null,
      "outputs": [
        {
          "output_type": "execute_result",
          "data": {
            "text/plain": [
              "<IPython.core.display.Markdown object>"
            ],
            "text/markdown": "# Overview of CPU and GPU Comparison\nThe topic area of CPU and GPU comparison is driven by the need for improved performance, power efficiency, and specialized functionality in computing. \n\n## Context for Comparison\nThe latest CPU models boast impressive performance and modern architectures, while GPUs are designed for compute-intensive tasks like AI training and machine learning, making a comparison between the two essential for understanding their strengths and weaknesses. \n| Component | Key Features | Benefits |\n| --- | --- | --- |\n| CPU | Modular tile-based design, Foveros 3D packaging technology | Improved flexibility, enhanced power efficiency |\n| GPU | Massively parallel architecture, high-bandwidth memory | Exceptional performance for AI workloads, ideal for parallel processing |\nNext steps involve exploring specific use cases where CPUs and GPUs are utilized, and implications for future computing architectures.\n\n## CPU Architecture and Implementation\n**The core architecture of modern CPUs is undergoing a significant transformation**, driven by the need for improved performance, power efficiency, and specialized functionality. The latest CPU models from Intel, AMD, and Apple boast impressive performance, enhanced energy efficiency, and modern architectures designed to cater to a wide range of applications. For instance, Intel's 14th generation Meteor Lake processors employ a modular tile-based design, where the CPU, GPU, and I/O components are separated into distinct chiplets, linked through Intel's Foveros 3D packaging technology. This design enhances flexibility, allowing for the combination of different tiles for specific performance needs and power efficiency. \n- Key features: modular tile-based design, Foveros 3D packaging technology\n- Benefits: improved flexibility, enhanced power efficiency\n### Sources\n- A Look at 2024's New CPU Models: Powering the Next Generation of Computing | by NABEEL FARAZ | Medium: https://medium.com/@nabeelfaraz/a-look-at-2024s-new-cpu-models-powering-the-next-generation-of-computing-8d4d394e7531\n- Arm Unveils 2024 CPU Core Designs, Cortex X925, A725 and A520: Arm v9.2 Redefined For 3nm | AnandTech: https://www.anandtech.com/show/21399/arm-unveils-2024-cpu-core-designs-cortex-x925-a725-and-a520-arm-v9-2-redefined-for-3nm-\n\n## Core Features and Architecture of GPU\n**The core features of a GPU, including its massively parallel architecture and high-bandwidth memory, make it an essential component for compute-intensive tasks like AI training and machine learning.** The GPU's architecture is designed to handle a large number of threads simultaneously, making it ideal for tasks that require parallel processing. For example, NVIDIA's Ampere architecture features up to 10,752 CUDA cores, providing exceptional performance for AI workloads. A specific example of GPU's capability is the NVIDIA Blackwell GB200 NVL72 cluster, which integrates 36 GB200 Superchips and delivers up to 30 times faster real-time trillion-parameter large language model (LLM) inference compared to previous generations.\n### Sources\n- GPU Architecture Explained: Key Components, Evolution & Performance: https://cloudmorpho.com/gpu/gpu-architecture/\n- Understanding the architecture of a GPU: https://medium.com/codex/understanding-the-architecture-of-a-gpu-d5d2d2e8978b\n- NVIDIA Blackwell GPUs: Architecture, Features, Specs: https://www.nexgencloud.com/blog/performance-benchmarks/nvidia-blackwell-gpus-architecture-features-specs\n\n# Comparative Analysis of CPU and GPU\n## Conclusion and Recommendations\nThe CPU and GPU have distinct architectures and implementations, catering to different performance needs. \n| Component | Architecture | Benefits | Example Use Case |\n| --- | --- | --- | --- |\n| CPU | Modular tile-based design, Foveros 3D packaging technology | Improved flexibility, enhanced power efficiency | Intel's 14th generation Meteor Lake processors |\n| GPU | Massively parallel architecture, high-bandwidth memory | Exceptional performance for AI workloads, parallel processing | NVIDIA's Ampere architecture, Blackwell GB200 NVL72 cluster |\nBased on the comparison, CPUs are suitable for general computing tasks, while GPUs excel in compute-intensive tasks like AI training and machine learning. Next steps involve selecting the appropriate component based on specific application requirements."
          },
          "metadata": {},
          "execution_count": 38
        }
      ]
    },
    {
      "cell_type": "code",
      "source": [],
      "metadata": {
        "id": "AQh7LW0JGpPW"
      },
      "execution_count": null,
      "outputs": []
    }
  ]
}