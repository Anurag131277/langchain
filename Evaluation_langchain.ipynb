{
  "nbformat": 4,
  "nbformat_minor": 0,
  "metadata": {
    "colab": {
      "provenance": [],
      "authorship_tag": "ABX9TyNcwGuQ35ehZFZRrXYre7OR",
      "include_colab_link": true
    },
    "kernelspec": {
      "name": "python3",
      "display_name": "Python 3"
    },
    "language_info": {
      "name": "python"
    }
  },
  "cells": [
    {
      "cell_type": "markdown",
      "metadata": {
        "id": "view-in-github",
        "colab_type": "text"
      },
      "source": [
        "<a href=\"https://colab.research.google.com/github/Anurag131277/langchain/blob/main/Evaluation_langchain.ipynb\" target=\"_parent\"><img src=\"https://colab.research.google.com/assets/colab-badge.svg\" alt=\"Open In Colab\"/></a>"
      ]
    },
    {
      "cell_type": "code",
      "execution_count": 2,
      "metadata": {
        "colab": {
          "base_uri": "https://localhost:8080/"
        },
        "id": "mURJZGJQlmzf",
        "outputId": "e94dcec5-ce2e-42b5-9458-351baceb56aa"
      },
      "outputs": [
        {
          "output_type": "stream",
          "name": "stdout",
          "text": [
            "\u001b[2K   \u001b[90m━━━━━━━━━━━━━━━━━━━━━━━━━━━━━━━━━━━━━━━━\u001b[0m \u001b[32m133.6/133.6 kB\u001b[0m \u001b[31m7.2 MB/s\u001b[0m eta \u001b[36m0:00:00\u001b[0m\n",
            "\u001b[2K   \u001b[90m━━━━━━━━━━━━━━━━━━━━━━━━━━━━━━━━━━━━━━━━\u001b[0m \u001b[32m2.5/2.5 MB\u001b[0m \u001b[31m19.7 MB/s\u001b[0m eta \u001b[36m0:00:00\u001b[0m\n",
            "\u001b[2K   \u001b[90m━━━━━━━━━━━━━━━━━━━━━━━━━━━━━━━━━━━━━━━━\u001b[0m \u001b[32m415.7/415.7 kB\u001b[0m \u001b[31m20.3 MB/s\u001b[0m eta \u001b[36m0:00:00\u001b[0m\n",
            "\u001b[2K   \u001b[90m━━━━━━━━━━━━━━━━━━━━━━━━━━━━━━━━━━━━━━━━\u001b[0m \u001b[32m41.3/41.3 kB\u001b[0m \u001b[31m2.4 MB/s\u001b[0m eta \u001b[36m0:00:00\u001b[0m\n",
            "\u001b[2K   \u001b[90m━━━━━━━━━━━━━━━━━━━━━━━━━━━━━━━━━━━━━━━━\u001b[0m \u001b[32m45.8/45.8 kB\u001b[0m \u001b[31m2.5 MB/s\u001b[0m eta \u001b[36m0:00:00\u001b[0m\n",
            "\u001b[2K   \u001b[90m━━━━━━━━━━━━━━━━━━━━━━━━━━━━━━━━━━━━━━━━\u001b[0m \u001b[32m50.9/50.9 kB\u001b[0m \u001b[31m3.3 MB/s\u001b[0m eta \u001b[36m0:00:00\u001b[0m\n",
            "\u001b[?25h"
          ]
        }
      ],
      "source": [
        "%pip install --quiet -U langgraph langchain_community langchain_core langchain_nvidia_ai_endpoints"
      ]
    },
    {
      "cell_type": "code",
      "source": [
        "import os\n",
        "from google.colab import userdata"
      ],
      "metadata": {
        "id": "plsPuBI0maUD"
      },
      "execution_count": 3,
      "outputs": []
    },
    {
      "cell_type": "code",
      "source": [
        "os.environ[\"NVIDIA_API_KEY\"] = userdata.get(\"NVIDIA_API_KEY\")\n",
        "llm_str= \"meta/llama-3.3-70b-instruct\""
      ],
      "metadata": {
        "id": "Rex25-iEmnSw"
      },
      "execution_count": 4,
      "outputs": []
    },
    {
      "cell_type": "code",
      "source": [
        "from langchain.chains import RetrievalQA\n",
        "from langchain_nvidia_ai_endpoints import ChatNVIDIA\n",
        "from langchain.document_loaders import CSVLoader\n",
        "from langchain.indexes import VectorstoreIndexCreator\n",
        "from langchain.vectorstores import DocArrayInMemorySearch"
      ],
      "metadata": {
        "id": "5CTD7J7RmuCb"
      },
      "execution_count": 5,
      "outputs": []
    },
    {
      "cell_type": "code",
      "source": [
        "file = 'OutdoorClothingCatalog_1000.csv'\n",
        "loader = CSVLoader(file_path=file)\n",
        "data = loader.load()"
      ],
      "metadata": {
        "id": "9V3BaSH3m9fg"
      },
      "execution_count": 7,
      "outputs": []
    },
    {
      "cell_type": "code",
      "source": [
        "%pip install tiktoken"
      ],
      "metadata": {
        "colab": {
          "base_uri": "https://localhost:8080/"
        },
        "id": "9Qc9mI8ZofeI",
        "outputId": "5005b694-4269-4d03-d0e1-7cfaf5d484ea"
      },
      "execution_count": 8,
      "outputs": [
        {
          "output_type": "stream",
          "name": "stdout",
          "text": [
            "Collecting tiktoken\n",
            "  Downloading tiktoken-0.9.0-cp311-cp311-manylinux_2_17_x86_64.manylinux2014_x86_64.whl.metadata (6.7 kB)\n",
            "Requirement already satisfied: regex>=2022.1.18 in /usr/local/lib/python3.11/dist-packages (from tiktoken) (2024.11.6)\n",
            "Requirement already satisfied: requests>=2.26.0 in /usr/local/lib/python3.11/dist-packages (from tiktoken) (2.32.3)\n",
            "Requirement already satisfied: charset-normalizer<4,>=2 in /usr/local/lib/python3.11/dist-packages (from requests>=2.26.0->tiktoken) (3.4.1)\n",
            "Requirement already satisfied: idna<4,>=2.5 in /usr/local/lib/python3.11/dist-packages (from requests>=2.26.0->tiktoken) (3.10)\n",
            "Requirement already satisfied: urllib3<3,>=1.21.1 in /usr/local/lib/python3.11/dist-packages (from requests>=2.26.0->tiktoken) (2.3.0)\n",
            "Requirement already satisfied: certifi>=2017.4.17 in /usr/local/lib/python3.11/dist-packages (from requests>=2.26.0->tiktoken) (2025.1.31)\n",
            "Downloading tiktoken-0.9.0-cp311-cp311-manylinux_2_17_x86_64.manylinux2014_x86_64.whl (1.2 MB)\n",
            "\u001b[?25l   \u001b[90m━━━━━━━━━━━━━━━━━━━━━━━━━━━━━━━━━━━━━━━━\u001b[0m \u001b[32m0.0/1.2 MB\u001b[0m \u001b[31m?\u001b[0m eta \u001b[36m-:--:--\u001b[0m\r\u001b[2K   \u001b[90m━━━━━━━━━━━━━━━━━━━━━━━━━━━━━━━━━━━━━━━━\u001b[0m \u001b[32m1.2/1.2 MB\u001b[0m \u001b[31m42.3 MB/s\u001b[0m eta \u001b[36m0:00:00\u001b[0m\n",
            "\u001b[?25hInstalling collected packages: tiktoken\n",
            "Successfully installed tiktoken-0.9.0\n"
          ]
        }
      ]
    },
    {
      "cell_type": "code",
      "source": [
        "from langchain_nvidia_ai_endpoints import NVIDIAEmbeddings\n",
        "embeddings = NVIDIAEmbeddings(model=\"NV-Embed-QA\")"
      ],
      "metadata": {
        "id": "f0jr8u8Gonp0"
      },
      "execution_count": 9,
      "outputs": []
    },
    {
      "cell_type": "code",
      "source": [
        "%pip install docarray"
      ],
      "metadata": {
        "colab": {
          "base_uri": "https://localhost:8080/"
        },
        "id": "-ceMOVEjpbnL",
        "outputId": "b7c9bda5-4b2c-4d7c-8ddc-d3ae9ba5ec8a"
      },
      "execution_count": 10,
      "outputs": [
        {
          "output_type": "stream",
          "name": "stdout",
          "text": [
            "Collecting docarray\n",
            "  Downloading docarray-0.40.0-py3-none-any.whl.metadata (36 kB)\n",
            "Requirement already satisfied: numpy>=1.17.3 in /usr/local/lib/python3.11/dist-packages (from docarray) (1.26.4)\n",
            "Requirement already satisfied: orjson>=3.8.2 in /usr/local/lib/python3.11/dist-packages (from docarray) (3.10.15)\n",
            "Requirement already satisfied: pydantic>=1.10.8 in /usr/local/lib/python3.11/dist-packages (from docarray) (2.10.6)\n",
            "Requirement already satisfied: rich>=13.1.0 in /usr/local/lib/python3.11/dist-packages (from docarray) (13.9.4)\n",
            "Collecting types-requests>=2.28.11.6 (from docarray)\n",
            "  Downloading types_requests-2.32.0.20250306-py3-none-any.whl.metadata (2.3 kB)\n",
            "Requirement already satisfied: typing-inspect>=0.8.0 in /usr/local/lib/python3.11/dist-packages (from docarray) (0.9.0)\n",
            "Requirement already satisfied: annotated-types>=0.6.0 in /usr/local/lib/python3.11/dist-packages (from pydantic>=1.10.8->docarray) (0.7.0)\n",
            "Requirement already satisfied: pydantic-core==2.27.2 in /usr/local/lib/python3.11/dist-packages (from pydantic>=1.10.8->docarray) (2.27.2)\n",
            "Requirement already satisfied: typing-extensions>=4.12.2 in /usr/local/lib/python3.11/dist-packages (from pydantic>=1.10.8->docarray) (4.12.2)\n",
            "Requirement already satisfied: markdown-it-py>=2.2.0 in /usr/local/lib/python3.11/dist-packages (from rich>=13.1.0->docarray) (3.0.0)\n",
            "Requirement already satisfied: pygments<3.0.0,>=2.13.0 in /usr/local/lib/python3.11/dist-packages (from rich>=13.1.0->docarray) (2.18.0)\n",
            "Requirement already satisfied: urllib3>=2 in /usr/local/lib/python3.11/dist-packages (from types-requests>=2.28.11.6->docarray) (2.3.0)\n",
            "Requirement already satisfied: mypy-extensions>=0.3.0 in /usr/local/lib/python3.11/dist-packages (from typing-inspect>=0.8.0->docarray) (1.0.0)\n",
            "Requirement already satisfied: mdurl~=0.1 in /usr/local/lib/python3.11/dist-packages (from markdown-it-py>=2.2.0->rich>=13.1.0->docarray) (0.1.2)\n",
            "Downloading docarray-0.40.0-py3-none-any.whl (270 kB)\n",
            "\u001b[2K   \u001b[90m━━━━━━━━━━━━━━━━━━━━━━━━━━━━━━━━━━━━━━━━\u001b[0m \u001b[32m270.2/270.2 kB\u001b[0m \u001b[31m14.2 MB/s\u001b[0m eta \u001b[36m0:00:00\u001b[0m\n",
            "\u001b[?25hDownloading types_requests-2.32.0.20250306-py3-none-any.whl (20 kB)\n",
            "Installing collected packages: types-requests, docarray\n",
            "Successfully installed docarray-0.40.0 types-requests-2.32.0.20250306\n"
          ]
        }
      ]
    },
    {
      "cell_type": "code",
      "source": [
        "index = VectorstoreIndexCreator(\n",
        "    vectorstore_cls=DocArrayInMemorySearch,\n",
        "    embedding=embeddings\n",
        ").from_loaders([loader])"
      ],
      "metadata": {
        "id": "gwqwJwbbnUBV",
        "outputId": "9f787d00-4a9d-4bc0-be42-cd916e398708",
        "colab": {
          "base_uri": "https://localhost:8080/"
        }
      },
      "execution_count": 11,
      "outputs": [
        {
          "output_type": "stream",
          "name": "stderr",
          "text": [
            "/usr/local/lib/python3.11/dist-packages/pydantic/_migration.py:283: UserWarning: `pydantic.error_wrappers:ValidationError` has been moved to `pydantic:ValidationError`.\n",
            "  warnings.warn(f'`{import_path}` has been moved to `{new_location}`.')\n"
          ]
        }
      ]
    },
    {
      "cell_type": "code",
      "source": [
        "llm = ChatNVIDIA(model=llm_str, temperature=0.0)\n",
        "qa = RetrievalQA.from_chain_type(\n",
        "    llm=llm,\n",
        "    chain_type=\"stuff\",\n",
        "    retriever=index.vectorstore.as_retriever(),\n",
        "    verbose=True,\n",
        "    chain_type_kwargs = {\n",
        "        \"document_separator\": \"<<<<>>>>>\"\n",
        "    }\n",
        ")"
      ],
      "metadata": {
        "id": "ib_u5nb6nVwV"
      },
      "execution_count": 12,
      "outputs": []
    },
    {
      "cell_type": "code",
      "source": [
        "data[10]"
      ],
      "metadata": {
        "id": "U7HHOToAp9IA"
      },
      "execution_count": null,
      "outputs": []
    },
    {
      "cell_type": "code",
      "source": [
        "data[11]"
      ],
      "metadata": {
        "id": "WUl2Jn5IqJmz"
      },
      "execution_count": null,
      "outputs": []
    },
    {
      "cell_type": "code",
      "source": [
        "examples = [\n",
        "    {\n",
        "        \"query\": \"Do the Cozy Comfort Pullover Set\\\n",
        "        have side pockets?\",\n",
        "        \"answer\": \"Yes\"\n",
        "    },\n",
        "    {\n",
        "        \"query\": \"What collection is the Ultra-Lofty \\\n",
        "        850 Stretch Down Hooded Jacket from?\",\n",
        "        \"answer\": \"The DownTek collection\"\n",
        "    }\n",
        "]"
      ],
      "metadata": {
        "id": "LAYsLxScqNbi"
      },
      "execution_count": 30,
      "outputs": []
    },
    {
      "cell_type": "code",
      "source": [
        "from langchain.evaluation.qa import QAGenerateChain\n"
      ],
      "metadata": {
        "id": "gJm8iFx266as"
      },
      "execution_count": 13,
      "outputs": []
    },
    {
      "cell_type": "code",
      "source": [
        "#QA chain\n",
        "for t in data[:5]:\n",
        "  print(t)"
      ],
      "metadata": {
        "colab": {
          "base_uri": "https://localhost:8080/"
        },
        "id": "b_c6jne97nlk",
        "outputId": "b7640dbe-082e-45d7-c8ac-7419365f42fa"
      },
      "execution_count": 35,
      "outputs": [
        {
          "output_type": "stream",
          "name": "stdout",
          "text": [
            "page_content=': 0\n",
            "name: Women's Campside Oxfords\n",
            "description: This ultracomfortable lace-to-toe Oxford boasts a super-soft canvas, thick cushioning, and quality construction for a broken-in feel from the first time you put them on. \n",
            "\n",
            "Size & Fit: Order regular shoe size. For half sizes not offered, order up to next whole size. \n",
            "\n",
            "Specs: Approx. weight: 1 lb.1 oz. per pair. \n",
            "\n",
            "Construction: Soft canvas material for a broken-in feel and look. Comfortable EVA innersole with Cleansport NXT® antimicrobial odor control. Vintage hunt, fish and camping motif on innersole. Moderate arch contour of innersole. EVA foam midsole for cushioning and support. Chain-tread-inspired molded rubber outsole with modified chain-tread pattern. Imported. \n",
            "\n",
            "Questions? Please contact us for any inquiries.' metadata={'source': 'OutdoorClothingCatalog_1000.csv', 'row': 0}\n",
            "page_content=': 1\n",
            "name: Recycled Waterhog Dog Mat, Chevron Weave\n",
            "description: Protect your floors from spills and splashing with our ultradurable recycled Waterhog dog mat made right here in the USA. \n",
            "\n",
            "Specs\n",
            "Small - Dimensions: 18\" x 28\". \n",
            "Medium - Dimensions: 22.5\" x 34.5\".\n",
            "\n",
            "Why We Love It\n",
            "Mother nature, wet shoes and muddy paws have met their match with our Recycled Waterhog mats. Ruggedly constructed from recycled plastic materials, these ultratough mats help keep dirt and water off your floors and plastic out of landfills, trails and oceans. Now, that's a win-win for everyone.\n",
            "\n",
            "Fabric & Care\n",
            "Vacuum or hose clean.\n",
            "\n",
            "Construction\n",
            "24 oz. polyester fabric made from 94% recycled materials.\n",
            "Rubber backing.\n",
            "\n",
            "Additional Features\n",
            "Features an -exclusive design.\n",
            "Features thick and thin fibers for scraping dirt and absorbing water.\n",
            "Dries quickly and resists fading, rotting, mildew and shedding.\n",
            "Use indoors or out.\n",
            "Made in the USA.\n",
            "\n",
            "Have questions? Reach out to our customer service team with any questions you may have.' metadata={'source': 'OutdoorClothingCatalog_1000.csv', 'row': 1}\n",
            "page_content=': 2\n",
            "name: Infant and Toddler Girls' Coastal Chill Swimsuit, Two-Piece\n",
            "description: She'll love the bright colors, ruffles and exclusive whimsical prints of this toddler's two-piece swimsuit! Our four-way-stretch and chlorine-resistant fabric keeps its shape and resists snags. The UPF 50+ rated fabric provides the highest rated sun protection possible, blocking 98% of the sun's harmful rays. The crossover no-slip straps and fully lined bottom ensure a secure fit and maximum coverage. Machine wash and line dry for best results. Imported.' metadata={'source': 'OutdoorClothingCatalog_1000.csv', 'row': 2}\n",
            "page_content=': 3\n",
            "name: Refresh Swimwear, V-Neck Tankini Contrasts\n",
            "description: Whether you're going for a swim or heading out on an SUP, this watersport-ready tankini top is designed to move with you and stay comfortable. All while looking great in an eye-catching colorblock style. \n",
            "\n",
            "Size & Fit\n",
            "Fitted: Sits close to the body.\n",
            "\n",
            "Why We Love It\n",
            "Not only does this swimtop feel good to wear, its fabric is good for the earth too. In recycled nylon, with Lycra® spandex for the perfect amount of stretch. \n",
            "\n",
            "Fabric & Care\n",
            "The premium Italian-blend is breathable, quick drying and abrasion resistant. \n",
            "Body in 82% recycled nylon with 18% Lycra® spandex. \n",
            "Lined in 90% recycled nylon with 10% Lycra® spandex. \n",
            "UPF 50+ rated – the highest rated sun protection possible. \n",
            "Handwash, line dry.\n",
            "\n",
            "Additional Features\n",
            "Lightweight racerback straps are easy to get on and off, and won't get in your way. \n",
            "Flattering V-neck silhouette. \n",
            "Imported.\n",
            "\n",
            "Sun Protection That Won't Wear Off\n",
            "Our high-performance fabric provides SPF' metadata={'source': 'OutdoorClothingCatalog_1000.csv', 'row': 3}\n",
            "page_content=': 4\n",
            "name: EcoFlex 3L Storm Pants\n",
            "description: Our new TEK O2 technology makes our four-season waterproof pants even more breathable. It's guaranteed to keep you dry and comfortable – whatever the activity and whatever the weather. Size & Fit: Slightly Fitted through hip and thigh. \n",
            "\n",
            "Why We Love It: Our state-of-the-art TEK O2 technology offers the most breathability we've ever tested. Great as ski pants, they're ideal for a variety of outdoor activities year-round. Plus, they're loaded with features outdoor enthusiasts appreciate, including weather-blocking gaiters and handy side zips. Air In. Water Out. See how our air-permeable TEK O2 technology keeps you dry and comfortable. \n",
            "\n",
            "Fabric & Care: 100% nylon, exclusive of trim. Machine wash and dry. \n",
            "\n",
            "Additional Features: Three-layer shell delivers waterproof protection. Brand new TEK O2 technology provides enhanced breathability. Interior gaiters keep out rain and snow. Full side zips for easy on/off over boots. Two zippered hand pockets. Thigh pocket. Imported.\n",
            "\n",
            " – Official Supplier to the U.S. Ski Team\n",
            "THEIR WILL' metadata={'source': 'OutdoorClothingCatalog_1000.csv', 'row': 4}\n"
          ]
        }
      ]
    },
    {
      "cell_type": "code",
      "source": [
        "example_gen_chain = QAGenerateChain.from_llm(ChatNVIDIA(model=llm_str))"
      ],
      "metadata": {
        "id": "j3T6SNav7lUI"
      },
      "execution_count": 14,
      "outputs": []
    },
    {
      "cell_type": "code",
      "source": [
        "new_examples = example_gen_chain.apply_and_parse(\n",
        "    [{\"doc\": t} for t in data[:5]]\n",
        ")\n",
        "new_examples"
      ],
      "metadata": {
        "colab": {
          "base_uri": "https://localhost:8080/"
        },
        "id": "BiAvF2C370CI",
        "outputId": "33f22421-d87f-49e6-e062-afaf16bcc177"
      },
      "execution_count": 32,
      "outputs": [
        {
          "output_type": "stream",
          "name": "stderr",
          "text": [
            "/usr/local/lib/python3.11/dist-packages/langchain/chains/llm.py:369: UserWarning: The apply_and_parse method is deprecated, instead pass an output parser directly to LLMChain.\n",
            "  warnings.warn(\n"
          ]
        },
        {
          "output_type": "execute_result",
          "data": {
            "text/plain": [
              "[{'qa_pairs': {'query': \"What type of material is used for the innersole of the Women's Campside Oxfords, and what feature does it include for odor control?\",\n",
              "   'answer': \"The Women's Campside Oxfords feature an EVA innersole with Cleansport NXT antimicrobial odor control.\"}},\n",
              " {'qa_pairs': {'query': 'What is the size of the Medium Recycled Waterhog Dog Mat, and what type of material is used for its backing?',\n",
              "   'answer': 'The Medium Recycled Waterhog Dog Mat has dimensions of 22.5\" x 34.5\", and it has a rubber backing.'}},\n",
              " {'qa_pairs': {'query': \"What percentage of the sun's harmful rays are blocked by the UPF 50+ rated fabric used in the Infant and Toddler Girls' Coastal Chill Swimsuit, Two-Piece?\",\n",
              "   'answer': '98%'}},\n",
              " {'qa_pairs': {'query': 'What percentage of Lycra spandex is used in the lining of the Refresh Swimwear V-Neck Tankini Contrasts, and what is the UPF rating of the fabric used in this product?',\n",
              "   'answer': 'The lining of the Refresh Swimwear V-Neck Tankini Contrasts is made with 10% Lycra spandex, and the fabric used in this product has a UPF 50+ rating, which is the highest rated sun protection possible.'}},\n",
              " {'qa_pairs': {'query': 'What material are the EcoFlex 3L Storm Pants primarily made of, and how should they be cared for?',\n",
              "   'answer': 'The EcoFlex 3L Storm Pants are primarily made of 100% nylon (exclusive of trim), and they should be cared for by machine washing and drying.'}}]"
            ]
          },
          "metadata": {},
          "execution_count": 32
        }
      ]
    },
    {
      "cell_type": "code",
      "source": [
        "new_examples[0]"
      ],
      "metadata": {
        "colab": {
          "base_uri": "https://localhost:8080/"
        },
        "id": "6lNRl_vB75q9",
        "outputId": "0a54b7d0-0d11-45d1-89a8-8cdccfdeed12"
      },
      "execution_count": 38,
      "outputs": [
        {
          "output_type": "execute_result",
          "data": {
            "text/plain": [
              "{'qa_pairs': {'query': \"What type of material is used for the innersole of the Women's Campside Oxfords, and what feature does it include for odor control?\",\n",
              "  'answer': \"The Women's Campside Oxfords feature an EVA innersole with Cleansport NXT antimicrobial odor control.\"}}"
            ]
          },
          "metadata": {},
          "execution_count": 38
        }
      ]
    },
    {
      "cell_type": "code",
      "source": [
        "test =[{'query': item['qa_pairs']['query'], 'answer': item['qa_pairs']['answer']} for item in new_examples]\n",
        "test"
      ],
      "metadata": {
        "colab": {
          "base_uri": "https://localhost:8080/"
        },
        "id": "ymups1_xA4aV",
        "outputId": "30969db1-87c6-4960-87b2-fd44f40a8e0e"
      },
      "execution_count": 41,
      "outputs": [
        {
          "output_type": "execute_result",
          "data": {
            "text/plain": [
              "[{'query': \"What type of material is used for the innersole of the Women's Campside Oxfords, and what feature does it include for odor control?\",\n",
              "  'answer': \"The Women's Campside Oxfords feature an EVA innersole with Cleansport NXT antimicrobial odor control.\"},\n",
              " {'query': 'What is the size of the Medium Recycled Waterhog Dog Mat, and what type of material is used for its backing?',\n",
              "  'answer': 'The Medium Recycled Waterhog Dog Mat has dimensions of 22.5\" x 34.5\", and it has a rubber backing.'},\n",
              " {'query': \"What percentage of the sun's harmful rays are blocked by the UPF 50+ rated fabric used in the Infant and Toddler Girls' Coastal Chill Swimsuit, Two-Piece?\",\n",
              "  'answer': '98%'},\n",
              " {'query': 'What percentage of Lycra spandex is used in the lining of the Refresh Swimwear V-Neck Tankini Contrasts, and what is the UPF rating of the fabric used in this product?',\n",
              "  'answer': 'The lining of the Refresh Swimwear V-Neck Tankini Contrasts is made with 10% Lycra spandex, and the fabric used in this product has a UPF 50+ rating, which is the highest rated sun protection possible.'},\n",
              " {'query': 'What material are the EcoFlex 3L Storm Pants primarily made of, and how should they be cared for?',\n",
              "  'answer': 'The EcoFlex 3L Storm Pants are primarily made of 100% nylon (exclusive of trim), and they should be cared for by machine washing and drying.'}]"
            ]
          },
          "metadata": {},
          "execution_count": 41
        }
      ]
    },
    {
      "cell_type": "code",
      "source": [
        "data[0]"
      ],
      "metadata": {
        "colab": {
          "base_uri": "https://localhost:8080/"
        },
        "id": "wsa--26m8AVI",
        "outputId": "30bafc33-93ab-4ed7-ff45-63bd37d1f6eb"
      },
      "execution_count": 17,
      "outputs": [
        {
          "output_type": "execute_result",
          "data": {
            "text/plain": [
              "Document(metadata={'source': 'OutdoorClothingCatalog_1000.csv', 'row': 0}, page_content=\": 0\\nname: Women's Campside Oxfords\\ndescription: This ultracomfortable lace-to-toe Oxford boasts a super-soft canvas, thick cushioning, and quality construction for a broken-in feel from the first time you put them on. \\n\\nSize & Fit: Order regular shoe size. For half sizes not offered, order up to next whole size. \\n\\nSpecs: Approx. weight: 1 lb.1 oz. per pair. \\n\\nConstruction: Soft canvas material for a broken-in feel and look. Comfortable EVA innersole with Cleansport NXT® antimicrobial odor control. Vintage hunt, fish and camping motif on innersole. Moderate arch contour of innersole. EVA foam midsole for cushioning and support. Chain-tread-inspired molded rubber outsole with modified chain-tread pattern. Imported. \\n\\nQuestions? Please contact us for any inquiries.\")"
            ]
          },
          "metadata": {},
          "execution_count": 17
        }
      ]
    },
    {
      "cell_type": "code",
      "source": [
        "examples +=test"
      ],
      "metadata": {
        "id": "UaRhM8xo8EGW"
      },
      "execution_count": 42,
      "outputs": []
    },
    {
      "cell_type": "code",
      "source": [
        "qa.run(examples[0][\"query\"])"
      ],
      "metadata": {
        "colab": {
          "base_uri": "https://localhost:8080/",
          "height": 122
        },
        "id": "w0svMoRt8Hp1",
        "outputId": "f2c2eb07-4da3-4d2e-c166-9e7ee9f9165c"
      },
      "execution_count": 43,
      "outputs": [
        {
          "output_type": "stream",
          "name": "stdout",
          "text": [
            "\n",
            "\n",
            "\u001b[1m> Entering new RetrievalQA chain...\u001b[0m\n",
            "\n",
            "\u001b[1m> Finished chain.\u001b[0m\n"
          ]
        },
        {
          "output_type": "execute_result",
          "data": {
            "text/plain": [
              "'Yes, the Cozy Comfort Pullover Set has side pockets, specifically on the pull-on pants.'"
            ],
            "application/vnd.google.colaboratory.intrinsic+json": {
              "type": "string"
            }
          },
          "metadata": {},
          "execution_count": 43
        }
      ]
    },
    {
      "cell_type": "code",
      "source": [
        "#manual evaluation of a llm chain\n",
        "import langchain\n",
        "langchain.debug = True"
      ],
      "metadata": {
        "id": "hcFB5QMe8Lei"
      },
      "execution_count": 44,
      "outputs": []
    },
    {
      "cell_type": "code",
      "source": [
        "qa.run(examples[0][\"query\"])"
      ],
      "metadata": {
        "colab": {
          "base_uri": "https://localhost:8080/",
          "height": 1000
        },
        "id": "DXQRz7L-8Vci",
        "outputId": "d267a1f4-a606-4d65-ceeb-4720c282e870"
      },
      "execution_count": 45,
      "outputs": [
        {
          "output_type": "stream",
          "name": "stdout",
          "text": [
            "\u001b[32;1m\u001b[1;3m[chain/start]\u001b[0m \u001b[1m[chain:RetrievalQA] Entering Chain run with input:\n",
            "\u001b[0m{\n",
            "  \"query\": \"Do the Cozy Comfort Pullover Set        have side pockets?\"\n",
            "}\n",
            "\u001b[32;1m\u001b[1;3m[chain/start]\u001b[0m \u001b[1m[chain:RetrievalQA > chain:StuffDocumentsChain] Entering Chain run with input:\n",
            "\u001b[0m[inputs]\n",
            "\u001b[32;1m\u001b[1;3m[chain/start]\u001b[0m \u001b[1m[chain:RetrievalQA > chain:StuffDocumentsChain > chain:LLMChain] Entering Chain run with input:\n",
            "\u001b[0m{\n",
            "  \"question\": \"Do the Cozy Comfort Pullover Set        have side pockets?\",\n",
            "  \"context\": \": 73\\nname: Cozy Cuddles Knit Pullover Set\\ndescription: Perfect for lounging, this knit set lives up to its name. We used ultrasoft fabric and an easy design that's as comfortable at bedtime as it is when we have to make a quick run out. \\n\\nSize & Fit \\nPants are Favorite Fit: Sits lower on the waist. \\nRelaxed Fit: Our most generous fit sits farthest from the body. \\n\\nFabric & Care \\nIn the softest blend of 63% polyester, 35% rayon and 2% spandex.\\n\\nAdditional Features \\nRelaxed fit top with raglan sleeves and rounded hem. \\nPull-on pants have a wide elastic waistband and drawstring, side pockets and a modern slim leg. \\nImported.<<<<>>>>>: 10\\nname: Cozy Comfort Pullover Set, Stripe\\ndescription: Perfect for lounging, this striped knit set lives up to its name. We used ultrasoft fabric and an easy design that's as comfortable at bedtime as it is when we have to make a quick run out.\\n\\nSize & Fit\\n- Pants are Favorite Fit: Sits lower on the waist.\\n- Relaxed Fit: Our most generous fit sits farthest from the body.\\n\\nFabric & Care\\n- In the softest blend of 63% polyester, 35% rayon and 2% spandex.\\n\\nAdditional Features\\n- Relaxed fit top with raglan sleeves and rounded hem.\\n- Pull-on pants have a wide elastic waistband and drawstring, side pockets and a modern slim leg.\\n\\nImported.<<<<>>>>>: 265\\nname: Cozy Workout Vest\\ndescription: For serious warmth that won't weigh you down, reach for this fleece-lined vest, which provides you with layering options whether you're inside or outdoors.\\nSize & Fit\\nRelaxed Fit. Falls at hip.\\nFabric & Care\\nSoft, textured fleece lining. Nylon shell. Machine wash and dry. \\nAdditional Features \\nTwo handwarmer pockets. Knit side panels stretch for a more flattering fit. Shell fabric is treated to resist water and stains. Imported.<<<<>>>>>Additional Features: Forearms are protected with fabric patches, collar stays snug with strap closure. Back zip cargo pocket with reinforcements for drag rope or survival kit. Interior zip security pocket. Two front cargo pockets and two handwarmer pockets. Draft-stopping elasticized drawcord waist. License loop.\\n\\nImported.\"\n",
            "}\n",
            "\u001b[32;1m\u001b[1;3m[llm/start]\u001b[0m \u001b[1m[chain:RetrievalQA > chain:StuffDocumentsChain > chain:LLMChain > llm:ChatNVIDIA] Entering LLM run with input:\n",
            "\u001b[0m{\n",
            "  \"prompts\": [\n",
            "    \"System: Use the following pieces of context to answer the user's question. \\nIf you don't know the answer, just say that you don't know, don't try to make up an answer.\\n----------------\\n: 73\\nname: Cozy Cuddles Knit Pullover Set\\ndescription: Perfect for lounging, this knit set lives up to its name. We used ultrasoft fabric and an easy design that's as comfortable at bedtime as it is when we have to make a quick run out. \\n\\nSize & Fit \\nPants are Favorite Fit: Sits lower on the waist. \\nRelaxed Fit: Our most generous fit sits farthest from the body. \\n\\nFabric & Care \\nIn the softest blend of 63% polyester, 35% rayon and 2% spandex.\\n\\nAdditional Features \\nRelaxed fit top with raglan sleeves and rounded hem. \\nPull-on pants have a wide elastic waistband and drawstring, side pockets and a modern slim leg. \\nImported.<<<<>>>>>: 10\\nname: Cozy Comfort Pullover Set, Stripe\\ndescription: Perfect for lounging, this striped knit set lives up to its name. We used ultrasoft fabric and an easy design that's as comfortable at bedtime as it is when we have to make a quick run out.\\n\\nSize & Fit\\n- Pants are Favorite Fit: Sits lower on the waist.\\n- Relaxed Fit: Our most generous fit sits farthest from the body.\\n\\nFabric & Care\\n- In the softest blend of 63% polyester, 35% rayon and 2% spandex.\\n\\nAdditional Features\\n- Relaxed fit top with raglan sleeves and rounded hem.\\n- Pull-on pants have a wide elastic waistband and drawstring, side pockets and a modern slim leg.\\n\\nImported.<<<<>>>>>: 265\\nname: Cozy Workout Vest\\ndescription: For serious warmth that won't weigh you down, reach for this fleece-lined vest, which provides you with layering options whether you're inside or outdoors.\\nSize & Fit\\nRelaxed Fit. Falls at hip.\\nFabric & Care\\nSoft, textured fleece lining. Nylon shell. Machine wash and dry. \\nAdditional Features \\nTwo handwarmer pockets. Knit side panels stretch for a more flattering fit. Shell fabric is treated to resist water and stains. Imported.<<<<>>>>>Additional Features: Forearms are protected with fabric patches, collar stays snug with strap closure. Back zip cargo pocket with reinforcements for drag rope or survival kit. Interior zip security pocket. Two front cargo pockets and two handwarmer pockets. Draft-stopping elasticized drawcord waist. License loop.\\n\\nImported.\\nHuman: Do the Cozy Comfort Pullover Set        have side pockets?\"\n",
            "  ]\n",
            "}\n",
            "\u001b[36;1m\u001b[1;3m[llm/end]\u001b[0m \u001b[1m[chain:RetrievalQA > chain:StuffDocumentsChain > chain:LLMChain > llm:ChatNVIDIA] [5.87s] Exiting LLM run with output:\n",
            "\u001b[0m{\n",
            "  \"generations\": [\n",
            "    [\n",
            "      {\n",
            "        \"text\": \"Yes, the Cozy Comfort Pullover Set has side pockets on the pants. According to the description, the pull-on pants have \\\"side pockets and a modern slim leg\\\".\",\n",
            "        \"generation_info\": null,\n",
            "        \"type\": \"ChatGeneration\",\n",
            "        \"message\": {\n",
            "          \"lc\": 1,\n",
            "          \"type\": \"constructor\",\n",
            "          \"id\": [\n",
            "            \"langchain\",\n",
            "            \"schema\",\n",
            "            \"messages\",\n",
            "            \"AIMessage\"\n",
            "          ],\n",
            "          \"kwargs\": {\n",
            "            \"content\": \"Yes, the Cozy Comfort Pullover Set has side pockets on the pants. According to the description, the pull-on pants have \\\"side pockets and a modern slim leg\\\".\",\n",
            "            \"response_metadata\": {\n",
            "              \"role\": \"assistant\",\n",
            "              \"content\": \"Yes, the Cozy Comfort Pullover Set has side pockets on the pants. According to the description, the pull-on pants have \\\"side pockets and a modern slim leg\\\".\",\n",
            "              \"token_usage\": {\n",
            "                \"prompt_tokens\": 573,\n",
            "                \"total_tokens\": 608,\n",
            "                \"completion_tokens\": 35\n",
            "              },\n",
            "              \"finish_reason\": \"stop\",\n",
            "              \"model_name\": \"meta/llama-3.3-70b-instruct\"\n",
            "            },\n",
            "            \"type\": \"ai\",\n",
            "            \"id\": \"run-62ce9476-7fbf-4634-b912-ef87e8c2e3b1-0\",\n",
            "            \"usage_metadata\": {\n",
            "              \"input_tokens\": 573,\n",
            "              \"output_tokens\": 35,\n",
            "              \"total_tokens\": 608\n",
            "            },\n",
            "            \"tool_calls\": [],\n",
            "            \"invalid_tool_calls\": []\n",
            "          }\n",
            "        }\n",
            "      }\n",
            "    ]\n",
            "  ],\n",
            "  \"llm_output\": {\n",
            "    \"role\": \"assistant\",\n",
            "    \"content\": \"Yes, the Cozy Comfort Pullover Set has side pockets on the pants. According to the description, the pull-on pants have \\\"side pockets and a modern slim leg\\\".\",\n",
            "    \"token_usage\": {\n",
            "      \"prompt_tokens\": 573,\n",
            "      \"total_tokens\": 608,\n",
            "      \"completion_tokens\": 35\n",
            "    },\n",
            "    \"finish_reason\": \"stop\",\n",
            "    \"model_name\": \"meta/llama-3.3-70b-instruct\"\n",
            "  },\n",
            "  \"run\": null,\n",
            "  \"type\": \"LLMResult\"\n",
            "}\n",
            "\u001b[36;1m\u001b[1;3m[chain/end]\u001b[0m \u001b[1m[chain:RetrievalQA > chain:StuffDocumentsChain > chain:LLMChain] [5.87s] Exiting Chain run with output:\n",
            "\u001b[0m{\n",
            "  \"text\": \"Yes, the Cozy Comfort Pullover Set has side pockets on the pants. According to the description, the pull-on pants have \\\"side pockets and a modern slim leg\\\".\"\n",
            "}\n",
            "\u001b[36;1m\u001b[1;3m[chain/end]\u001b[0m \u001b[1m[chain:RetrievalQA > chain:StuffDocumentsChain] [5.87s] Exiting Chain run with output:\n",
            "\u001b[0m{\n",
            "  \"output_text\": \"Yes, the Cozy Comfort Pullover Set has side pockets on the pants. According to the description, the pull-on pants have \\\"side pockets and a modern slim leg\\\".\"\n",
            "}\n",
            "\u001b[36;1m\u001b[1;3m[chain/end]\u001b[0m \u001b[1m[chain:RetrievalQA] [6.01s] Exiting Chain run with output:\n",
            "\u001b[0m{\n",
            "  \"result\": \"Yes, the Cozy Comfort Pullover Set has side pockets on the pants. According to the description, the pull-on pants have \\\"side pockets and a modern slim leg\\\".\"\n",
            "}\n"
          ]
        },
        {
          "output_type": "execute_result",
          "data": {
            "text/plain": [
              "'Yes, the Cozy Comfort Pullover Set has side pockets on the pants. According to the description, the pull-on pants have \"side pockets and a modern slim leg\".'"
            ],
            "application/vnd.google.colaboratory.intrinsic+json": {
              "type": "string"
            }
          },
          "metadata": {},
          "execution_count": 45
        }
      ]
    },
    {
      "cell_type": "code",
      "source": [
        "langchain.debug= False"
      ],
      "metadata": {
        "id": "S55_p-z_8aGK"
      },
      "execution_count": 47,
      "outputs": []
    },
    {
      "cell_type": "code",
      "source": [
        "examples"
      ],
      "metadata": {
        "colab": {
          "base_uri": "https://localhost:8080/"
        },
        "id": "qxc4W_nR95e7",
        "outputId": "8034e701-125c-4b04-b26b-1dce68131b56"
      },
      "execution_count": 26,
      "outputs": [
        {
          "output_type": "execute_result",
          "data": {
            "text/plain": [
              "[{'query': 'Do the Cozy Comfort Pullover Set        have side pockets?',\n",
              "  'answer': 'Yes'},\n",
              " {'query': 'What collection is the Ultra-Lofty         850 Stretch Down Hooded Jacket from?',\n",
              "  'answer': 'The DownTek collection'},\n",
              " {'qa_pairs': {'query': \"What type of material is used for the innersole of the Women's Campside Oxfords, and what feature does it include for odor control?\",\n",
              "   'answer': \"The Women's Campside Oxfords feature an EVA innersole that includes Cleansport NXT® antimicrobial odor control.\"}},\n",
              " {'qa_pairs': {'query': 'What is the material composition of the 24 oz. polyester fabric used in the construction of the Recycled Waterhog Dog Mat, and what is the primary benefit of this composition in terms of environmental impact?',\n",
              "   'answer': 'The 24 oz. polyester fabric is made from 94% recycled materials, which helps keep plastic out of landfills, trails, and oceans, thereby reducing waste and promoting sustainability.'}},\n",
              " {'qa_pairs': {'query': \"What percentage of the sun's harmful rays does the UPF 50+ rated fabric in the Infant and Toddler Girls' Coastal Chill Swimsuit block, and how should the swimsuit be washed and dried for best results?\",\n",
              "   'answer': \"The UPF 50+ rated fabric blocks 98% of the sun's harmful rays, and for best results, the swimsuit should be machine washed and line dried.\"}},\n",
              " {'qa_pairs': {'query': 'What type of fabric is used in the body and lining of the Refresh Swimwear V-Neck Tankini, and what are their respective compositions?',\n",
              "   'answer': 'The body is made of 82% recycled nylon with 18% Lycra® spandex, and the lining is made of 90% recycled nylon with 10% Lycra® spandex.'}},\n",
              " {'qa_pairs': {'query': 'What is the primary benefit of the TEK O2 technology used in the EcoFlex 3L Storm Pants, and what is the recommended care method for the fabric of these pants?',\n",
              "   'answer': 'The primary benefit of the TEK O2 technology is that it provides enhanced breathability, keeping the wearer dry and comfortable. The recommended care method for the fabric of these pants is to machine wash and dry, as they are made of 100% nylon, exclusive of trim.'}}]"
            ]
          },
          "metadata": {},
          "execution_count": 26
        }
      ]
    },
    {
      "cell_type": "code",
      "source": [
        "predictions = qa.apply(examples)\n",
        "predictions"
      ],
      "metadata": {
        "colab": {
          "base_uri": "https://localhost:8080/"
        },
        "id": "HVEUwpx99p3T",
        "outputId": "d196378f-6793-488d-d63b-fac49ece3dad"
      },
      "execution_count": 58,
      "outputs": [
        {
          "output_type": "stream",
          "name": "stdout",
          "text": [
            "\n",
            "\n",
            "\u001b[1m> Entering new RetrievalQA chain...\u001b[0m\n",
            "\n",
            "\u001b[1m> Finished chain.\u001b[0m\n",
            "\n",
            "\n",
            "\u001b[1m> Entering new RetrievalQA chain...\u001b[0m\n",
            "\n",
            "\u001b[1m> Finished chain.\u001b[0m\n",
            "\n",
            "\n",
            "\u001b[1m> Entering new RetrievalQA chain...\u001b[0m\n",
            "\n",
            "\u001b[1m> Finished chain.\u001b[0m\n",
            "\n",
            "\n",
            "\u001b[1m> Entering new RetrievalQA chain...\u001b[0m\n",
            "\n",
            "\u001b[1m> Finished chain.\u001b[0m\n",
            "\n",
            "\n",
            "\u001b[1m> Entering new RetrievalQA chain...\u001b[0m\n",
            "\n",
            "\u001b[1m> Finished chain.\u001b[0m\n",
            "\n",
            "\n",
            "\u001b[1m> Entering new RetrievalQA chain...\u001b[0m\n",
            "\n",
            "\u001b[1m> Finished chain.\u001b[0m\n",
            "\n",
            "\n",
            "\u001b[1m> Entering new RetrievalQA chain...\u001b[0m\n",
            "\n",
            "\u001b[1m> Finished chain.\u001b[0m\n"
          ]
        },
        {
          "output_type": "execute_result",
          "data": {
            "text/plain": [
              "[{'query': 'Do the Cozy Comfort Pullover Set        have side pockets?',\n",
              "  'answer': 'Yes',\n",
              "  'result': 'Yes, the Cozy Comfort Pullover Set has side pockets, specifically on the pull-on pants.'},\n",
              " {'query': 'What collection is the Ultra-Lofty         850 Stretch Down Hooded Jacket from?',\n",
              "  'answer': 'The DownTek collection',\n",
              "  'result': 'The Ultra-Lofty 850 Stretch Down Hooded Jacket is from the DownTek collection.'},\n",
              " {'query': \"What type of material is used for the innersole of the Women's Campside Oxfords, and what feature does it include for odor control?\",\n",
              "  'answer': \"The Women's Campside Oxfords feature an EVA innersole with Cleansport NXT antimicrobial odor control.\",\n",
              "  'result': \"The Women's Campside Oxfords have a comfortable EVA (Ethylene-Vinyl Acetate) innersole, which includes Cleansport NXT antimicrobial odor control to help prevent foot odor.\"},\n",
              " {'query': 'What is the size of the Medium Recycled Waterhog Dog Mat, and what type of material is used for its backing?',\n",
              "  'answer': 'The Medium Recycled Waterhog Dog Mat has dimensions of 22.5\" x 34.5\", and it has a rubber backing.',\n",
              "  'result': 'The size of the Medium Recycled Waterhog Dog Mat is 22.5\" x 34.5\". The backing of the mat is made of rubber.'},\n",
              " {'query': \"What percentage of the sun's harmful rays are blocked by the UPF 50+ rated fabric used in the Infant and Toddler Girls' Coastal Chill Swimsuit, Two-Piece?\",\n",
              "  'answer': '98%',\n",
              "  'result': \"The UPF 50+ rated fabric used in the Infant and Toddler Girls' Coastal Chill Swimsuit, Two-Piece blocks 98% of the sun's harmful rays.\"},\n",
              " {'query': 'What percentage of Lycra spandex is used in the lining of the Refresh Swimwear V-Neck Tankini Contrasts, and what is the UPF rating of the fabric used in this product?',\n",
              "  'answer': 'The lining of the Refresh Swimwear V-Neck Tankini Contrasts is made with 10% Lycra spandex, and the fabric used in this product has a UPF 50+ rating, which is the highest rated sun protection possible.',\n",
              "  'result': 'The lining of the Refresh Swimwear V-Neck Tankini Contrasts is made from 90% recycled nylon with 10% Lycra spandex. The fabric used in this product has a UPF 50+ rating, which is the highest rated sun protection possible.'},\n",
              " {'query': 'What material are the EcoFlex 3L Storm Pants primarily made of, and how should they be cared for?',\n",
              "  'answer': 'The EcoFlex 3L Storm Pants are primarily made of 100% nylon (exclusive of trim), and they should be cared for by machine washing and drying.',\n",
              "  'result': 'The EcoFlex 3L Storm Pants are primarily made of 100% nylon (exclusive of trim). They should be machine washed and dried.'}]"
            ]
          },
          "metadata": {},
          "execution_count": 58
        }
      ]
    },
    {
      "cell_type": "code",
      "source": [
        "from langchain.evaluation.qa import QAEvalChain"
      ],
      "metadata": {
        "id": "Gg19Y9zG9z3n"
      },
      "execution_count": 49,
      "outputs": []
    },
    {
      "cell_type": "code",
      "source": [
        "llm = ChatNVIDIA(temperature=0, model=llm_str)\n",
        "eval_chain = QAEvalChain.from_llm(llm)"
      ],
      "metadata": {
        "id": "GgAIzsOrC1V7"
      },
      "execution_count": 50,
      "outputs": []
    },
    {
      "cell_type": "code",
      "source": [
        "graded_outputs = eval_chain.evaluate(examples, predictions)"
      ],
      "metadata": {
        "id": "XsWS1wlvC6M4"
      },
      "execution_count": 59,
      "outputs": []
    },
    {
      "cell_type": "code",
      "source": [
        "graded_outputs\n",
        "# predictions"
      ],
      "metadata": {
        "colab": {
          "base_uri": "https://localhost:8080/"
        },
        "id": "17-czMH1DHkk",
        "outputId": "2873fdd5-5bbc-42db-e5f9-9b0093152a91"
      },
      "execution_count": 60,
      "outputs": [
        {
          "output_type": "execute_result",
          "data": {
            "text/plain": [
              "[{'results': 'GRADE: CORRECT'},\n",
              " {'results': 'GRADE: CORRECT'},\n",
              " {'results': 'GRADE: CORRECT'},\n",
              " {'results': 'GRADE: CORRECT'},\n",
              " {'results': 'GRADE: CORRECT'},\n",
              " {'results': 'GRADE: CORRECT \\n\\nThe student answer contains the correct percentage of Lycra spandex (10%) and the correct UPF rating (50+), which matches the true answer. The additional information about the lining being made from 90% recycled nylon does not conflict with the true answer, so it does not affect the grade.'},\n",
              " {'results': 'GRADE: CORRECT'}]"
            ]
          },
          "metadata": {},
          "execution_count": 60
        }
      ]
    },
    {
      "cell_type": "code",
      "source": [
        "for i, eg in enumerate(examples):\n",
        "    print(f\"Example {i}:\")\n",
        "    print(\"Question: \" + predictions[i]['query'])\n",
        "    print(\"Real Answer: \" + predictions[i]['answer'])\n",
        "    print(\"Predicted Answer: \" + predictions[i]['result'])\n",
        "    print(\"Predicted Grade: \" + graded_outputs[i]['results'])\n",
        "    print()"
      ],
      "metadata": {
        "colab": {
          "base_uri": "https://localhost:8080/"
        },
        "id": "Eg_Z_G_oC9jY",
        "outputId": "5f42111c-2f1c-4efe-9c6a-afc83aa837a6"
      },
      "execution_count": 61,
      "outputs": [
        {
          "output_type": "stream",
          "name": "stdout",
          "text": [
            "Example 0:\n",
            "Question: Do the Cozy Comfort Pullover Set        have side pockets?\n",
            "Real Answer: Yes\n",
            "Predicted Answer: Yes, the Cozy Comfort Pullover Set has side pockets, specifically on the pull-on pants.\n",
            "Predicted Grade: GRADE: CORRECT\n",
            "\n",
            "Example 1:\n",
            "Question: What collection is the Ultra-Lofty         850 Stretch Down Hooded Jacket from?\n",
            "Real Answer: The DownTek collection\n",
            "Predicted Answer: The Ultra-Lofty 850 Stretch Down Hooded Jacket is from the DownTek collection.\n",
            "Predicted Grade: GRADE: CORRECT\n",
            "\n",
            "Example 2:\n",
            "Question: What type of material is used for the innersole of the Women's Campside Oxfords, and what feature does it include for odor control?\n",
            "Real Answer: The Women's Campside Oxfords feature an EVA innersole with Cleansport NXT antimicrobial odor control.\n",
            "Predicted Answer: The Women's Campside Oxfords have a comfortable EVA (Ethylene-Vinyl Acetate) innersole, which includes Cleansport NXT antimicrobial odor control to help prevent foot odor.\n",
            "Predicted Grade: GRADE: CORRECT\n",
            "\n",
            "Example 3:\n",
            "Question: What is the size of the Medium Recycled Waterhog Dog Mat, and what type of material is used for its backing?\n",
            "Real Answer: The Medium Recycled Waterhog Dog Mat has dimensions of 22.5\" x 34.5\", and it has a rubber backing.\n",
            "Predicted Answer: The size of the Medium Recycled Waterhog Dog Mat is 22.5\" x 34.5\". The backing of the mat is made of rubber.\n",
            "Predicted Grade: GRADE: CORRECT\n",
            "\n",
            "Example 4:\n",
            "Question: What percentage of the sun's harmful rays are blocked by the UPF 50+ rated fabric used in the Infant and Toddler Girls' Coastal Chill Swimsuit, Two-Piece?\n",
            "Real Answer: 98%\n",
            "Predicted Answer: The UPF 50+ rated fabric used in the Infant and Toddler Girls' Coastal Chill Swimsuit, Two-Piece blocks 98% of the sun's harmful rays.\n",
            "Predicted Grade: GRADE: CORRECT\n",
            "\n",
            "Example 5:\n",
            "Question: What percentage of Lycra spandex is used in the lining of the Refresh Swimwear V-Neck Tankini Contrasts, and what is the UPF rating of the fabric used in this product?\n",
            "Real Answer: The lining of the Refresh Swimwear V-Neck Tankini Contrasts is made with 10% Lycra spandex, and the fabric used in this product has a UPF 50+ rating, which is the highest rated sun protection possible.\n",
            "Predicted Answer: The lining of the Refresh Swimwear V-Neck Tankini Contrasts is made from 90% recycled nylon with 10% Lycra spandex. The fabric used in this product has a UPF 50+ rating, which is the highest rated sun protection possible.\n",
            "Predicted Grade: GRADE: CORRECT \n",
            "\n",
            "The student answer contains the correct percentage of Lycra spandex (10%) and the correct UPF rating (50+), which matches the true answer. The additional information about the lining being made from 90% recycled nylon does not conflict with the true answer, so it does not affect the grade.\n",
            "\n",
            "Example 6:\n",
            "Question: What material are the EcoFlex 3L Storm Pants primarily made of, and how should they be cared for?\n",
            "Real Answer: The EcoFlex 3L Storm Pants are primarily made of 100% nylon (exclusive of trim), and they should be cared for by machine washing and drying.\n",
            "Predicted Answer: The EcoFlex 3L Storm Pants are primarily made of 100% nylon (exclusive of trim). They should be machine washed and dried.\n",
            "Predicted Grade: GRADE: CORRECT\n",
            "\n"
          ]
        }
      ]
    },
    {
      "cell_type": "code",
      "source": [],
      "metadata": {
        "id": "oQPhs7RrDCtj"
      },
      "execution_count": null,
      "outputs": []
    }
  ]
}